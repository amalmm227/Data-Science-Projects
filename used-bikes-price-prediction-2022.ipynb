{
 "cells": [
  {
   "cell_type": "code",
   "execution_count": null,
   "id": "secondary-tractor",
   "metadata": {
    "papermill": {
     "duration": 0.050462,
     "end_time": "2022-07-17T17:21:20.312376",
     "exception": false,
     "start_time": "2022-07-17T17:21:20.261914",
     "status": "completed"
    },
    "tags": []
   },
   "outputs": [],
   "source": []
  },
  {
   "cell_type": "markdown",
   "id": "coral-romania",
   "metadata": {
    "papermill": {
     "duration": 0.048869,
     "end_time": "2022-07-17T17:21:20.410116",
     "exception": false,
     "start_time": "2022-07-17T17:21:20.361247",
     "status": "completed"
    },
    "tags": []
   },
   "source": [
    "# Used Bikes Price Prediction"
   ]
  },
  {
   "cell_type": "markdown",
   "id": "legendary-justice",
   "metadata": {
    "papermill": {
     "duration": 0.04812,
     "end_time": "2022-07-17T17:21:20.506866",
     "exception": false,
     "start_time": "2022-07-17T17:21:20.458746",
     "status": "completed"
    },
    "tags": []
   },
   "source": [
    "*This dataset contains the records of used bike prices in India. The data has been collected from one of the leading online portal.\n",
    "*"
   ]
  },
  {
   "cell_type": "code",
   "execution_count": 1,
   "id": "opposite-inquiry",
   "metadata": {
    "execution": {
     "iopub.execute_input": "2022-07-17T17:21:20.608868Z",
     "iopub.status.busy": "2022-07-17T17:21:20.607668Z",
     "iopub.status.idle": "2022-07-17T17:21:21.389058Z",
     "shell.execute_reply": "2022-07-17T17:21:21.388369Z",
     "shell.execute_reply.started": "2022-07-17T17:13:17.064001Z"
    },
    "papermill": {
     "duration": 0.834073,
     "end_time": "2022-07-17T17:21:21.389274",
     "exception": false,
     "start_time": "2022-07-17T17:21:20.555201",
     "status": "completed"
    },
    "tags": []
   },
   "outputs": [],
   "source": [
    "import pandas as pd\n",
    "import numpy as np\n",
    "import matplotlib.pyplot as plt\n",
    "%matplotlib inline\n",
    "import seaborn as sns"
   ]
  },
  {
   "cell_type": "code",
   "execution_count": 2,
   "id": "norman-breath",
   "metadata": {
    "execution": {
     "iopub.execute_input": "2022-07-17T17:21:21.495915Z",
     "iopub.status.busy": "2022-07-17T17:21:21.494947Z",
     "iopub.status.idle": "2022-07-17T17:21:21.623679Z",
     "shell.execute_reply": "2022-07-17T17:21:21.624257Z",
     "shell.execute_reply.started": "2022-07-17T17:13:17.861912Z"
    },
    "papermill": {
     "duration": 0.186449,
     "end_time": "2022-07-17T17:21:21.624423",
     "exception": false,
     "start_time": "2022-07-17T17:21:21.437974",
     "status": "completed"
    },
    "tags": []
   },
   "outputs": [
    {
     "data": {
      "text/html": [
       "<div>\n",
       "<style scoped>\n",
       "    .dataframe tbody tr th:only-of-type {\n",
       "        vertical-align: middle;\n",
       "    }\n",
       "\n",
       "    .dataframe tbody tr th {\n",
       "        vertical-align: top;\n",
       "    }\n",
       "\n",
       "    .dataframe thead th {\n",
       "        text-align: right;\n",
       "    }\n",
       "</style>\n",
       "<table border=\"1\" class=\"dataframe\">\n",
       "  <thead>\n",
       "    <tr style=\"text-align: right;\">\n",
       "      <th></th>\n",
       "      <th>bike_name</th>\n",
       "      <th>price</th>\n",
       "      <th>city</th>\n",
       "      <th>kms_driven</th>\n",
       "      <th>owner</th>\n",
       "      <th>age</th>\n",
       "      <th>power</th>\n",
       "      <th>brand</th>\n",
       "    </tr>\n",
       "  </thead>\n",
       "  <tbody>\n",
       "    <tr>\n",
       "      <th>0</th>\n",
       "      <td>TVS Star City Plus Dual Tone 110cc</td>\n",
       "      <td>35000.0</td>\n",
       "      <td>Ahmedabad</td>\n",
       "      <td>17654.0</td>\n",
       "      <td>First Owner</td>\n",
       "      <td>3.0</td>\n",
       "      <td>110.0</td>\n",
       "      <td>TVS</td>\n",
       "    </tr>\n",
       "    <tr>\n",
       "      <th>1</th>\n",
       "      <td>Royal Enfield Classic 350cc</td>\n",
       "      <td>119900.0</td>\n",
       "      <td>Delhi</td>\n",
       "      <td>11000.0</td>\n",
       "      <td>First Owner</td>\n",
       "      <td>4.0</td>\n",
       "      <td>350.0</td>\n",
       "      <td>Royal Enfield</td>\n",
       "    </tr>\n",
       "    <tr>\n",
       "      <th>2</th>\n",
       "      <td>Triumph Daytona 675R</td>\n",
       "      <td>600000.0</td>\n",
       "      <td>Delhi</td>\n",
       "      <td>110.0</td>\n",
       "      <td>First Owner</td>\n",
       "      <td>8.0</td>\n",
       "      <td>675.0</td>\n",
       "      <td>Triumph</td>\n",
       "    </tr>\n",
       "    <tr>\n",
       "      <th>3</th>\n",
       "      <td>TVS Apache RTR 180cc</td>\n",
       "      <td>65000.0</td>\n",
       "      <td>Bangalore</td>\n",
       "      <td>16329.0</td>\n",
       "      <td>First Owner</td>\n",
       "      <td>4.0</td>\n",
       "      <td>180.0</td>\n",
       "      <td>TVS</td>\n",
       "    </tr>\n",
       "    <tr>\n",
       "      <th>4</th>\n",
       "      <td>Yamaha FZ S V 2.0 150cc-Ltd. Edition</td>\n",
       "      <td>80000.0</td>\n",
       "      <td>Bangalore</td>\n",
       "      <td>10000.0</td>\n",
       "      <td>First Owner</td>\n",
       "      <td>3.0</td>\n",
       "      <td>150.0</td>\n",
       "      <td>Yamaha</td>\n",
       "    </tr>\n",
       "  </tbody>\n",
       "</table>\n",
       "</div>"
      ],
      "text/plain": [
       "                              bike_name     price       city  kms_driven  \\\n",
       "0    TVS Star City Plus Dual Tone 110cc   35000.0  Ahmedabad     17654.0   \n",
       "1           Royal Enfield Classic 350cc  119900.0      Delhi     11000.0   \n",
       "2                  Triumph Daytona 675R  600000.0      Delhi       110.0   \n",
       "3                  TVS Apache RTR 180cc   65000.0  Bangalore     16329.0   \n",
       "4  Yamaha FZ S V 2.0 150cc-Ltd. Edition   80000.0  Bangalore     10000.0   \n",
       "\n",
       "         owner  age  power          brand  \n",
       "0  First Owner  3.0  110.0            TVS  \n",
       "1  First Owner  4.0  350.0  Royal Enfield  \n",
       "2  First Owner  8.0  675.0        Triumph  \n",
       "3  First Owner  4.0  180.0            TVS  \n",
       "4  First Owner  3.0  150.0         Yamaha  "
      ]
     },
     "execution_count": 2,
     "metadata": {},
     "output_type": "execute_result"
    }
   ],
   "source": [
    "df1 = pd.read_csv(\"/kaggle/input/used-bikes-prices-in-india/Used_Bikes.csv\")\n",
    "df1.head()"
   ]
  },
  {
   "cell_type": "code",
   "execution_count": 3,
   "id": "olive-wallace",
   "metadata": {
    "execution": {
     "iopub.execute_input": "2022-07-17T17:21:21.727027Z",
     "iopub.status.busy": "2022-07-17T17:21:21.726044Z",
     "iopub.status.idle": "2022-07-17T17:21:21.731656Z",
     "shell.execute_reply": "2022-07-17T17:21:21.732245Z",
     "shell.execute_reply.started": "2022-07-17T17:13:17.978980Z"
    },
    "papermill": {
     "duration": 0.058511,
     "end_time": "2022-07-17T17:21:21.732407",
     "exception": false,
     "start_time": "2022-07-17T17:21:21.673896",
     "status": "completed"
    },
    "tags": []
   },
   "outputs": [
    {
     "data": {
      "text/plain": [
       "(32648, 8)"
      ]
     },
     "execution_count": 3,
     "metadata": {},
     "output_type": "execute_result"
    }
   ],
   "source": [
    "df1.shape"
   ]
  },
  {
   "cell_type": "code",
   "execution_count": 4,
   "id": "recorded-dublin",
   "metadata": {
    "execution": {
     "iopub.execute_input": "2022-07-17T17:21:21.838034Z",
     "iopub.status.busy": "2022-07-17T17:21:21.837100Z",
     "iopub.status.idle": "2022-07-17T17:21:21.842881Z",
     "shell.execute_reply": "2022-07-17T17:21:21.843437Z",
     "shell.execute_reply.started": "2022-07-17T17:13:17.986699Z"
    },
    "papermill": {
     "duration": 0.060515,
     "end_time": "2022-07-17T17:21:21.843621",
     "exception": false,
     "start_time": "2022-07-17T17:21:21.783106",
     "status": "completed"
    },
    "tags": []
   },
   "outputs": [
    {
     "data": {
      "text/plain": [
       "Index(['bike_name', 'price', 'city', 'kms_driven', 'owner', 'age', 'power',\n",
       "       'brand'],\n",
       "      dtype='object')"
      ]
     },
     "execution_count": 4,
     "metadata": {},
     "output_type": "execute_result"
    }
   ],
   "source": [
    "df1.columns"
   ]
  },
  {
   "cell_type": "code",
   "execution_count": 5,
   "id": "amateur-natural",
   "metadata": {
    "execution": {
     "iopub.execute_input": "2022-07-17T17:21:21.957570Z",
     "iopub.status.busy": "2022-07-17T17:21:21.956590Z",
     "iopub.status.idle": "2022-07-17T17:21:21.971012Z",
     "shell.execute_reply": "2022-07-17T17:21:21.971900Z",
     "shell.execute_reply.started": "2022-07-17T17:13:17.999220Z"
    },
    "papermill": {
     "duration": 0.077718,
     "end_time": "2022-07-17T17:21:21.972125",
     "exception": false,
     "start_time": "2022-07-17T17:21:21.894407",
     "status": "completed"
    },
    "tags": []
   },
   "outputs": [
    {
     "data": {
      "text/html": [
       "<div>\n",
       "<style scoped>\n",
       "    .dataframe tbody tr th:only-of-type {\n",
       "        vertical-align: middle;\n",
       "    }\n",
       "\n",
       "    .dataframe tbody tr th {\n",
       "        vertical-align: top;\n",
       "    }\n",
       "\n",
       "    .dataframe thead th {\n",
       "        text-align: right;\n",
       "    }\n",
       "</style>\n",
       "<table border=\"1\" class=\"dataframe\">\n",
       "  <thead>\n",
       "    <tr style=\"text-align: right;\">\n",
       "      <th></th>\n",
       "      <th>bike_name</th>\n",
       "      <th>price</th>\n",
       "      <th>kms_driven</th>\n",
       "      <th>owner</th>\n",
       "      <th>age</th>\n",
       "    </tr>\n",
       "  </thead>\n",
       "  <tbody>\n",
       "    <tr>\n",
       "      <th>0</th>\n",
       "      <td>TVS Star City Plus Dual Tone 110cc</td>\n",
       "      <td>35000.0</td>\n",
       "      <td>17654.0</td>\n",
       "      <td>First Owner</td>\n",
       "      <td>3.0</td>\n",
       "    </tr>\n",
       "    <tr>\n",
       "      <th>1</th>\n",
       "      <td>Royal Enfield Classic 350cc</td>\n",
       "      <td>119900.0</td>\n",
       "      <td>11000.0</td>\n",
       "      <td>First Owner</td>\n",
       "      <td>4.0</td>\n",
       "    </tr>\n",
       "    <tr>\n",
       "      <th>2</th>\n",
       "      <td>Triumph Daytona 675R</td>\n",
       "      <td>600000.0</td>\n",
       "      <td>110.0</td>\n",
       "      <td>First Owner</td>\n",
       "      <td>8.0</td>\n",
       "    </tr>\n",
       "    <tr>\n",
       "      <th>3</th>\n",
       "      <td>TVS Apache RTR 180cc</td>\n",
       "      <td>65000.0</td>\n",
       "      <td>16329.0</td>\n",
       "      <td>First Owner</td>\n",
       "      <td>4.0</td>\n",
       "    </tr>\n",
       "    <tr>\n",
       "      <th>4</th>\n",
       "      <td>Yamaha FZ S V 2.0 150cc-Ltd. Edition</td>\n",
       "      <td>80000.0</td>\n",
       "      <td>10000.0</td>\n",
       "      <td>First Owner</td>\n",
       "      <td>3.0</td>\n",
       "    </tr>\n",
       "  </tbody>\n",
       "</table>\n",
       "</div>"
      ],
      "text/plain": [
       "                              bike_name     price  kms_driven        owner  \\\n",
       "0    TVS Star City Plus Dual Tone 110cc   35000.0     17654.0  First Owner   \n",
       "1           Royal Enfield Classic 350cc  119900.0     11000.0  First Owner   \n",
       "2                  Triumph Daytona 675R  600000.0       110.0  First Owner   \n",
       "3                  TVS Apache RTR 180cc   65000.0     16329.0  First Owner   \n",
       "4  Yamaha FZ S V 2.0 150cc-Ltd. Edition   80000.0     10000.0  First Owner   \n",
       "\n",
       "   age  \n",
       "0  3.0  \n",
       "1  4.0  \n",
       "2  8.0  \n",
       "3  4.0  \n",
       "4  3.0  "
      ]
     },
     "execution_count": 5,
     "metadata": {},
     "output_type": "execute_result"
    }
   ],
   "source": [
    "df2=df1.drop(['power','brand','city'],axis=1)\n",
    "df2.head()"
   ]
  },
  {
   "cell_type": "code",
   "execution_count": 6,
   "id": "selected-building",
   "metadata": {
    "execution": {
     "iopub.execute_input": "2022-07-17T17:21:22.098989Z",
     "iopub.status.busy": "2022-07-17T17:21:22.098068Z",
     "iopub.status.idle": "2022-07-17T17:21:22.101629Z",
     "shell.execute_reply": "2022-07-17T17:21:22.102082Z",
     "shell.execute_reply.started": "2022-07-17T17:13:18.022937Z"
    },
    "papermill": {
     "duration": 0.060742,
     "end_time": "2022-07-17T17:21:22.102282",
     "exception": false,
     "start_time": "2022-07-17T17:21:22.041540",
     "status": "completed"
    },
    "tags": []
   },
   "outputs": [
    {
     "data": {
      "text/plain": [
       "(32648, 5)"
      ]
     },
     "execution_count": 6,
     "metadata": {},
     "output_type": "execute_result"
    }
   ],
   "source": [
    "df2.shape"
   ]
  },
  {
   "cell_type": "markdown",
   "id": "preceding-action",
   "metadata": {
    "papermill": {
     "duration": 0.050144,
     "end_time": "2022-07-17T17:21:22.203109",
     "exception": false,
     "start_time": "2022-07-17T17:21:22.152965",
     "status": "completed"
    },
    "tags": []
   },
   "source": [
    "**Checking Null Values**"
   ]
  },
  {
   "cell_type": "code",
   "execution_count": 7,
   "id": "bibliographic-intro",
   "metadata": {
    "execution": {
     "iopub.execute_input": "2022-07-17T17:21:22.308576Z",
     "iopub.status.busy": "2022-07-17T17:21:22.307602Z",
     "iopub.status.idle": "2022-07-17T17:21:22.321881Z",
     "shell.execute_reply": "2022-07-17T17:21:22.322384Z",
     "shell.execute_reply.started": "2022-07-17T17:13:18.030254Z"
    },
    "papermill": {
     "duration": 0.069065,
     "end_time": "2022-07-17T17:21:22.322551",
     "exception": false,
     "start_time": "2022-07-17T17:21:22.253486",
     "status": "completed"
    },
    "tags": []
   },
   "outputs": [
    {
     "data": {
      "text/plain": [
       "bike_name     0\n",
       "price         0\n",
       "kms_driven    0\n",
       "owner         0\n",
       "age           0\n",
       "dtype: int64"
      ]
     },
     "execution_count": 7,
     "metadata": {},
     "output_type": "execute_result"
    }
   ],
   "source": [
    "df2.isna().sum()"
   ]
  },
  {
   "cell_type": "code",
   "execution_count": 8,
   "id": "aging-destiny",
   "metadata": {
    "execution": {
     "iopub.execute_input": "2022-07-17T17:21:22.428066Z",
     "iopub.status.busy": "2022-07-17T17:21:22.427128Z",
     "iopub.status.idle": "2022-07-17T17:21:22.441876Z",
     "shell.execute_reply": "2022-07-17T17:21:22.442339Z",
     "shell.execute_reply.started": "2022-07-17T17:13:18.050262Z"
    },
    "papermill": {
     "duration": 0.069188,
     "end_time": "2022-07-17T17:21:22.442514",
     "exception": false,
     "start_time": "2022-07-17T17:21:22.373326",
     "status": "completed"
    },
    "tags": []
   },
   "outputs": [
    {
     "data": {
      "text/html": [
       "<div>\n",
       "<style scoped>\n",
       "    .dataframe tbody tr th:only-of-type {\n",
       "        vertical-align: middle;\n",
       "    }\n",
       "\n",
       "    .dataframe tbody tr th {\n",
       "        vertical-align: top;\n",
       "    }\n",
       "\n",
       "    .dataframe thead th {\n",
       "        text-align: right;\n",
       "    }\n",
       "</style>\n",
       "<table border=\"1\" class=\"dataframe\">\n",
       "  <thead>\n",
       "    <tr style=\"text-align: right;\">\n",
       "      <th></th>\n",
       "      <th>bike_name</th>\n",
       "      <th>price</th>\n",
       "      <th>kms_driven</th>\n",
       "      <th>owner</th>\n",
       "      <th>age</th>\n",
       "    </tr>\n",
       "  </thead>\n",
       "  <tbody>\n",
       "    <tr>\n",
       "      <th>0</th>\n",
       "      <td>TVS Star City Plus Dual Tone 110cc</td>\n",
       "      <td>35000</td>\n",
       "      <td>17654</td>\n",
       "      <td>First Owner</td>\n",
       "      <td>3</td>\n",
       "    </tr>\n",
       "    <tr>\n",
       "      <th>1</th>\n",
       "      <td>Royal Enfield Classic 350cc</td>\n",
       "      <td>119900</td>\n",
       "      <td>11000</td>\n",
       "      <td>First Owner</td>\n",
       "      <td>4</td>\n",
       "    </tr>\n",
       "    <tr>\n",
       "      <th>2</th>\n",
       "      <td>Triumph Daytona 675R</td>\n",
       "      <td>600000</td>\n",
       "      <td>110</td>\n",
       "      <td>First Owner</td>\n",
       "      <td>8</td>\n",
       "    </tr>\n",
       "    <tr>\n",
       "      <th>3</th>\n",
       "      <td>TVS Apache RTR 180cc</td>\n",
       "      <td>65000</td>\n",
       "      <td>16329</td>\n",
       "      <td>First Owner</td>\n",
       "      <td>4</td>\n",
       "    </tr>\n",
       "    <tr>\n",
       "      <th>4</th>\n",
       "      <td>Yamaha FZ S V 2.0 150cc-Ltd. Edition</td>\n",
       "      <td>80000</td>\n",
       "      <td>10000</td>\n",
       "      <td>First Owner</td>\n",
       "      <td>3</td>\n",
       "    </tr>\n",
       "  </tbody>\n",
       "</table>\n",
       "</div>"
      ],
      "text/plain": [
       "                              bike_name   price  kms_driven        owner  age\n",
       "0    TVS Star City Plus Dual Tone 110cc   35000       17654  First Owner    3\n",
       "1           Royal Enfield Classic 350cc  119900       11000  First Owner    4\n",
       "2                  Triumph Daytona 675R  600000         110  First Owner    8\n",
       "3                  TVS Apache RTR 180cc   65000       16329  First Owner    4\n",
       "4  Yamaha FZ S V 2.0 150cc-Ltd. Edition   80000       10000  First Owner    3"
      ]
     },
     "execution_count": 8,
     "metadata": {},
     "output_type": "execute_result"
    }
   ],
   "source": [
    "df2['price']=df2['price'].astype('int32')\n",
    "df2['kms_driven']=df2['kms_driven'].astype('int32')\n",
    "df2['age']=df2['age'].astype('int32')\n",
    "df3=df2.copy()\n",
    "df3.head()"
   ]
  },
  {
   "cell_type": "markdown",
   "id": "metric-volunteer",
   "metadata": {
    "papermill": {
     "duration": 0.051358,
     "end_time": "2022-07-17T17:21:22.545362",
     "exception": false,
     "start_time": "2022-07-17T17:21:22.494004",
     "status": "completed"
    },
    "tags": []
   },
   "source": [
    "# Data Cleaning"
   ]
  },
  {
   "cell_type": "code",
   "execution_count": 9,
   "id": "imperial-calculation",
   "metadata": {
    "execution": {
     "iopub.execute_input": "2022-07-17T17:21:22.651900Z",
     "iopub.status.busy": "2022-07-17T17:21:22.650937Z",
     "iopub.status.idle": "2022-07-17T17:22:24.580025Z",
     "shell.execute_reply": "2022-07-17T17:22:24.580603Z",
     "shell.execute_reply.started": "2022-07-17T17:13:18.067234Z"
    },
    "papermill": {
     "duration": 61.983821,
     "end_time": "2022-07-17T17:22:24.580788",
     "exception": false,
     "start_time": "2022-07-17T17:21:22.596967",
     "status": "completed"
    },
    "tags": []
   },
   "outputs": [
    {
     "data": {
      "image/png": "[encoded data removed]",
      "text/plain": [
       "<Figure size 432x288 with 1 Axes>"
      ]
     },
     "metadata": {
      "needs_background": "light"
     },
     "output_type": "display_data"
    }
   ],
   "source": [
    "plt.bar(df3['age'],df3['price'])\n",
    "plt.xlabel('AGE')\n",
    "plt.ylabel('PRICE')\n",
    "plt.title('Price vs Age')\n",
    "plt.show()"
   ]
  },
  {
   "cell_type": "code",
   "execution_count": 10,
   "id": "limited-stone",
   "metadata": {
    "execution": {
     "iopub.execute_input": "2022-07-17T17:22:24.709853Z",
     "iopub.status.busy": "2022-07-17T17:22:24.708704Z",
     "iopub.status.idle": "2022-07-17T17:22:24.863758Z",
     "shell.execute_reply": "2022-07-17T17:22:24.863043Z",
     "shell.execute_reply.started": "2022-07-17T17:14:19.457833Z"
    },
    "papermill": {
     "duration": 0.23075,
     "end_time": "2022-07-17T17:22:24.863901",
     "exception": false,
     "start_time": "2022-07-17T17:22:24.633151",
     "status": "completed"
    },
    "tags": []
   },
   "outputs": [
    {
     "data": {
      "image/png": "[encoded data removed]",
      "text/plain": [
       "<Figure size 432x288 with 1 Axes>"
      ]
     },
     "metadata": {
      "needs_background": "light"
     },
     "output_type": "display_data"
    }
   ],
   "source": [
    "plt.scatter(df3['kms_driven'],df3['price'],marker='+',color='g')\n",
    "plt.show()"
   ]
  },
  {
   "cell_type": "code",
   "execution_count": 11,
   "id": "presidential-failing",
   "metadata": {
    "execution": {
     "iopub.execute_input": "2022-07-17T17:22:24.975566Z",
     "iopub.status.busy": "2022-07-17T17:22:24.974602Z",
     "iopub.status.idle": "2022-07-17T17:22:24.985924Z",
     "shell.execute_reply": "2022-07-17T17:22:24.985396Z",
     "shell.execute_reply.started": "2022-07-17T17:14:19.634152Z"
    },
    "papermill": {
     "duration": 0.069211,
     "end_time": "2022-07-17T17:22:24.986057",
     "exception": false,
     "start_time": "2022-07-17T17:22:24.916846",
     "status": "completed"
    },
    "tags": []
   },
   "outputs": [
    {
     "data": {
      "text/html": [
       "<div>\n",
       "<style scoped>\n",
       "    .dataframe tbody tr th:only-of-type {\n",
       "        vertical-align: middle;\n",
       "    }\n",
       "\n",
       "    .dataframe tbody tr th {\n",
       "        vertical-align: top;\n",
       "    }\n",
       "\n",
       "    .dataframe thead th {\n",
       "        text-align: right;\n",
       "    }\n",
       "</style>\n",
       "<table border=\"1\" class=\"dataframe\">\n",
       "  <thead>\n",
       "    <tr style=\"text-align: right;\">\n",
       "      <th></th>\n",
       "      <th>bike_name</th>\n",
       "      <th>price</th>\n",
       "      <th>kms_driven</th>\n",
       "      <th>owner</th>\n",
       "      <th>age</th>\n",
       "    </tr>\n",
       "  </thead>\n",
       "  <tbody>\n",
       "    <tr>\n",
       "      <th>0</th>\n",
       "      <td>TVS Star City Plus Dual Tone 110cc</td>\n",
       "      <td>35000</td>\n",
       "      <td>17654</td>\n",
       "      <td>First Owner</td>\n",
       "      <td>3</td>\n",
       "    </tr>\n",
       "    <tr>\n",
       "      <th>1</th>\n",
       "      <td>Royal Enfield Classic 350cc</td>\n",
       "      <td>119900</td>\n",
       "      <td>11000</td>\n",
       "      <td>First Owner</td>\n",
       "      <td>4</td>\n",
       "    </tr>\n",
       "    <tr>\n",
       "      <th>2</th>\n",
       "      <td>Triumph Daytona 675R</td>\n",
       "      <td>600000</td>\n",
       "      <td>110</td>\n",
       "      <td>First Owner</td>\n",
       "      <td>8</td>\n",
       "    </tr>\n",
       "    <tr>\n",
       "      <th>3</th>\n",
       "      <td>TVS Apache RTR 180cc</td>\n",
       "      <td>65000</td>\n",
       "      <td>16329</td>\n",
       "      <td>First Owner</td>\n",
       "      <td>4</td>\n",
       "    </tr>\n",
       "    <tr>\n",
       "      <th>4</th>\n",
       "      <td>Yamaha FZ S V 2.0 150cc-Ltd. Edition</td>\n",
       "      <td>80000</td>\n",
       "      <td>10000</td>\n",
       "      <td>First Owner</td>\n",
       "      <td>3</td>\n",
       "    </tr>\n",
       "  </tbody>\n",
       "</table>\n",
       "</div>"
      ],
      "text/plain": [
       "                              bike_name   price  kms_driven        owner  age\n",
       "0    TVS Star City Plus Dual Tone 110cc   35000       17654  First Owner    3\n",
       "1           Royal Enfield Classic 350cc  119900       11000  First Owner    4\n",
       "2                  Triumph Daytona 675R  600000         110  First Owner    8\n",
       "3                  TVS Apache RTR 180cc   65000       16329  First Owner    4\n",
       "4  Yamaha FZ S V 2.0 150cc-Ltd. Edition   80000       10000  First Owner    3"
      ]
     },
     "execution_count": 11,
     "metadata": {},
     "output_type": "execute_result"
    }
   ],
   "source": [
    "df4=df3.copy()\n",
    "df4.head()"
   ]
  },
  {
   "cell_type": "markdown",
   "id": "vietnamese-engine",
   "metadata": {
    "papermill": {
     "duration": 0.054505,
     "end_time": "2022-07-17T17:22:25.096212",
     "exception": false,
     "start_time": "2022-07-17T17:22:25.041707",
     "status": "completed"
    },
    "tags": []
   },
   "source": [
    "# Finding Outliers and Removing"
   ]
  },
  {
   "cell_type": "code",
   "execution_count": 12,
   "id": "revolutionary-balloon",
   "metadata": {
    "execution": {
     "iopub.execute_input": "2022-07-17T17:22:25.212835Z",
     "iopub.status.busy": "2022-07-17T17:22:25.212153Z",
     "iopub.status.idle": "2022-07-17T17:22:25.216595Z",
     "shell.execute_reply": "2022-07-17T17:22:25.215925Z",
     "shell.execute_reply.started": "2022-07-17T17:14:19.648413Z"
    },
    "papermill": {
     "duration": 0.064262,
     "end_time": "2022-07-17T17:22:25.216736",
     "exception": false,
     "start_time": "2022-07-17T17:22:25.152474",
     "status": "completed"
    },
    "tags": []
   },
   "outputs": [
    {
     "data": {
      "text/plain": [
       "array([ 3,  4,  8,  6,  7,  5,  2, 16, 13,  9, 10, 14, 12, 11,  1, 15, 39,\n",
       "       17, 18, 30, 19, 23, 41, 27, 37, 24, 20, 43, 38, 63, 34, 31, 22, 26,\n",
       "       25], dtype=int32)"
      ]
     },
     "execution_count": 12,
     "metadata": {},
     "output_type": "execute_result"
    }
   ],
   "source": [
    "df4['age'].unique()"
   ]
  },
  {
   "cell_type": "code",
   "execution_count": 13,
   "id": "arbitrary-photograph",
   "metadata": {
    "execution": {
     "iopub.execute_input": "2022-07-17T17:22:25.334026Z",
     "iopub.status.busy": "2022-07-17T17:22:25.333412Z",
     "iopub.status.idle": "2022-07-17T17:22:25.342480Z",
     "shell.execute_reply": "2022-07-17T17:22:25.341893Z",
     "shell.execute_reply.started": "2022-07-17T17:14:19.659180Z"
    },
    "papermill": {
     "duration": 0.070576,
     "end_time": "2022-07-17T17:22:25.342616",
     "exception": false,
     "start_time": "2022-07-17T17:22:25.272040",
     "status": "completed"
    },
    "tags": []
   },
   "outputs": [
    {
     "data": {
      "text/plain": [
       "count    32648.000000\n",
       "mean         8.048211\n",
       "std          4.031700\n",
       "min          1.000000\n",
       "25%          5.000000\n",
       "50%          7.000000\n",
       "75%         10.000000\n",
       "max         63.000000\n",
       "Name: age, dtype: float64"
      ]
     },
     "execution_count": 13,
     "metadata": {},
     "output_type": "execute_result"
    }
   ],
   "source": [
    "df4['age'].describe()\n"
   ]
  },
  {
   "cell_type": "code",
   "execution_count": 14,
   "id": "respective-romania",
   "metadata": {
    "execution": {
     "iopub.execute_input": "2022-07-17T17:22:25.455646Z",
     "iopub.status.busy": "2022-07-17T17:22:25.454997Z",
     "iopub.status.idle": "2022-07-17T17:22:25.952601Z",
     "shell.execute_reply": "2022-07-17T17:22:25.952051Z",
     "shell.execute_reply.started": "2022-07-17T17:14:19.676861Z"
    },
    "papermill": {
     "duration": 0.556151,
     "end_time": "2022-07-17T17:22:25.952756",
     "exception": false,
     "start_time": "2022-07-17T17:22:25.396605",
     "status": "completed"
    },
    "tags": []
   },
   "outputs": [
    {
     "name": "stderr",
     "output_type": "stream",
     "text": [
      "/opt/conda/lib/python3.7/site-packages/seaborn/distributions.py:2557: FutureWarning: `distplot` is a deprecated function and will be removed in a future version. Please adapt your code to use either `displot` (a figure-level function with similar flexibility) or `histplot` (an axes-level function for histograms).\n",
      "  warnings.warn(msg, FutureWarning)\n"
     ]
    },
    {
     "data": {
      "text/plain": [
       "<AxesSubplot:xlabel='age', ylabel='Density'>"
      ]
     },
     "execution_count": 14,
     "metadata": {},
     "output_type": "execute_result"
    },
    {
     "data": {
      "image/png": "[encoded data removed]",
      "text/plain": [
       "<Figure size 432x288 with 1 Axes>"
      ]
     },
     "metadata": {
      "needs_background": "light"
     },
     "output_type": "display_data"
    }
   ],
   "source": [
    "sns.distplot(df4['age'])"
   ]
  },
  {
   "cell_type": "code",
   "execution_count": 15,
   "id": "derived-clearing",
   "metadata": {
    "execution": {
     "iopub.execute_input": "2022-07-17T17:22:26.074652Z",
     "iopub.status.busy": "2022-07-17T17:22:26.073983Z",
     "iopub.status.idle": "2022-07-17T17:22:26.195928Z",
     "shell.execute_reply": "2022-07-17T17:22:26.195369Z",
     "shell.execute_reply.started": "2022-07-17T17:14:20.185726Z"
    },
    "papermill": {
     "duration": 0.184692,
     "end_time": "2022-07-17T17:22:26.196066",
     "exception": false,
     "start_time": "2022-07-17T17:22:26.011374",
     "status": "completed"
    },
    "tags": []
   },
   "outputs": [
    {
     "name": "stderr",
     "output_type": "stream",
     "text": [
      "/opt/conda/lib/python3.7/site-packages/seaborn/_decorators.py:43: FutureWarning: Pass the following variable as a keyword arg: x. From version 0.12, the only valid positional argument will be `data`, and passing other arguments without an explicit keyword will result in an error or misinterpretation.\n",
      "  FutureWarning\n"
     ]
    },
    {
     "data": {
      "text/plain": [
       "<AxesSubplot:xlabel='age'>"
      ]
     },
     "execution_count": 15,
     "metadata": {},
     "output_type": "execute_result"
    },
    {
     "data": {
      "image/png": "[encoded data removed]",
      "text/plain": [
       "<Figure size 432x288 with 1 Axes>"
      ]
     },
     "metadata": {
      "needs_background": "light"
     },
     "output_type": "display_data"
    }
   ],
   "source": [
    "sns.boxplot(df4['age'])"
   ]
  },
  {
   "cell_type": "code",
   "execution_count": 16,
   "id": "numerical-situation",
   "metadata": {
    "execution": {
     "iopub.execute_input": "2022-07-17T17:22:26.316484Z",
     "iopub.status.busy": "2022-07-17T17:22:26.315835Z",
     "iopub.status.idle": "2022-07-17T17:22:26.323449Z",
     "shell.execute_reply": "2022-07-17T17:22:26.322625Z",
     "shell.execute_reply.started": "2022-07-17T17:14:20.304244Z"
    },
    "papermill": {
     "duration": 0.070133,
     "end_time": "2022-07-17T17:22:26.323667",
     "exception": false,
     "start_time": "2022-07-17T17:22:26.253534",
     "status": "completed"
    },
    "tags": []
   },
   "outputs": [
    {
     "name": "stdout",
     "output_type": "stream",
     "text": [
      "upper_limit: 17.321121482157235\n"
     ]
    }
   ],
   "source": [
    "upper_limit=df4['age'].mean()+2.3*df4['age'].std() \n",
    "print('upper_limit:',upper_limit)"
   ]
  },
  {
   "cell_type": "code",
   "execution_count": 17,
   "id": "square-tragedy",
   "metadata": {
    "execution": {
     "iopub.execute_input": "2022-07-17T17:22:26.445060Z",
     "iopub.status.busy": "2022-07-17T17:22:26.444410Z",
     "iopub.status.idle": "2022-07-17T17:22:26.465155Z",
     "shell.execute_reply": "2022-07-17T17:22:26.464553Z",
     "shell.execute_reply.started": "2022-07-17T17:14:20.312754Z"
    },
    "papermill": {
     "duration": 0.081867,
     "end_time": "2022-07-17T17:22:26.465303",
     "exception": false,
     "start_time": "2022-07-17T17:22:26.383436",
     "status": "completed"
    },
    "tags": []
   },
   "outputs": [
    {
     "data": {
      "text/html": [
       "<div>\n",
       "<style scoped>\n",
       "    .dataframe tbody tr th:only-of-type {\n",
       "        vertical-align: middle;\n",
       "    }\n",
       "\n",
       "    .dataframe tbody tr th {\n",
       "        vertical-align: top;\n",
       "    }\n",
       "\n",
       "    .dataframe thead th {\n",
       "        text-align: right;\n",
       "    }\n",
       "</style>\n",
       "<table border=\"1\" class=\"dataframe\">\n",
       "  <thead>\n",
       "    <tr style=\"text-align: right;\">\n",
       "      <th></th>\n",
       "      <th>bike_name</th>\n",
       "      <th>price</th>\n",
       "      <th>kms_driven</th>\n",
       "      <th>owner</th>\n",
       "      <th>age</th>\n",
       "    </tr>\n",
       "  </thead>\n",
       "  <tbody>\n",
       "    <tr>\n",
       "      <th>334</th>\n",
       "      <td>Royal Enfield Bullet 350 cc</td>\n",
       "      <td>125000</td>\n",
       "      <td>16500</td>\n",
       "      <td>First Owner</td>\n",
       "      <td>39</td>\n",
       "    </tr>\n",
       "    <tr>\n",
       "      <th>1033</th>\n",
       "      <td>Bajaj Boxer CT100</td>\n",
       "      <td>11000</td>\n",
       "      <td>21311</td>\n",
       "      <td>First Owner</td>\n",
       "      <td>18</td>\n",
       "    </tr>\n",
       "    <tr>\n",
       "      <th>1219</th>\n",
       "      <td>Hero CD 100SS</td>\n",
       "      <td>25500</td>\n",
       "      <td>10000</td>\n",
       "      <td>First Owner</td>\n",
       "      <td>30</td>\n",
       "    </tr>\n",
       "    <tr>\n",
       "      <th>1278</th>\n",
       "      <td>Royal Enfield Bullet 350cc</td>\n",
       "      <td>130000</td>\n",
       "      <td>6600</td>\n",
       "      <td>First Owner</td>\n",
       "      <td>18</td>\n",
       "    </tr>\n",
       "    <tr>\n",
       "      <th>1298</th>\n",
       "      <td>Hero Splendor 100cc</td>\n",
       "      <td>21000</td>\n",
       "      <td>24000</td>\n",
       "      <td>Second Owner</td>\n",
       "      <td>19</td>\n",
       "    </tr>\n",
       "    <tr>\n",
       "      <th>...</th>\n",
       "      <td>...</td>\n",
       "      <td>...</td>\n",
       "      <td>...</td>\n",
       "      <td>...</td>\n",
       "      <td>...</td>\n",
       "    </tr>\n",
       "    <tr>\n",
       "      <th>32547</th>\n",
       "      <td>Hero Passion 100cc</td>\n",
       "      <td>15000</td>\n",
       "      <td>35000</td>\n",
       "      <td>Second Owner</td>\n",
       "      <td>19</td>\n",
       "    </tr>\n",
       "    <tr>\n",
       "      <th>32566</th>\n",
       "      <td>Hero Passion 100cc</td>\n",
       "      <td>15000</td>\n",
       "      <td>35000</td>\n",
       "      <td>Second Owner</td>\n",
       "      <td>19</td>\n",
       "    </tr>\n",
       "    <tr>\n",
       "      <th>32585</th>\n",
       "      <td>Hero Passion 100cc</td>\n",
       "      <td>15000</td>\n",
       "      <td>35000</td>\n",
       "      <td>Second Owner</td>\n",
       "      <td>19</td>\n",
       "    </tr>\n",
       "    <tr>\n",
       "      <th>32604</th>\n",
       "      <td>Hero Passion 100cc</td>\n",
       "      <td>15000</td>\n",
       "      <td>35000</td>\n",
       "      <td>Second Owner</td>\n",
       "      <td>19</td>\n",
       "    </tr>\n",
       "    <tr>\n",
       "      <th>32642</th>\n",
       "      <td>Hero Passion 100cc</td>\n",
       "      <td>15000</td>\n",
       "      <td>35000</td>\n",
       "      <td>Second Owner</td>\n",
       "      <td>19</td>\n",
       "    </tr>\n",
       "  </tbody>\n",
       "</table>\n",
       "<p>685 rows × 5 columns</p>\n",
       "</div>"
      ],
      "text/plain": [
       "                         bike_name   price  kms_driven         owner  age\n",
       "334    Royal Enfield Bullet 350 cc  125000       16500   First Owner   39\n",
       "1033             Bajaj Boxer CT100   11000       21311   First Owner   18\n",
       "1219                 Hero CD 100SS   25500       10000   First Owner   30\n",
       "1278    Royal Enfield Bullet 350cc  130000        6600   First Owner   18\n",
       "1298           Hero Splendor 100cc   21000       24000  Second Owner   19\n",
       "...                            ...     ...         ...           ...  ...\n",
       "32547           Hero Passion 100cc   15000       35000  Second Owner   19\n",
       "32566           Hero Passion 100cc   15000       35000  Second Owner   19\n",
       "32585           Hero Passion 100cc   15000       35000  Second Owner   19\n",
       "32604           Hero Passion 100cc   15000       35000  Second Owner   19\n",
       "32642           Hero Passion 100cc   15000       35000  Second Owner   19\n",
       "\n",
       "[685 rows x 5 columns]"
      ]
     },
     "execution_count": 17,
     "metadata": {},
     "output_type": "execute_result"
    }
   ],
   "source": [
    "df4.loc[(df4['age']>upper_limit)]"
   ]
  },
  {
   "cell_type": "code",
   "execution_count": 18,
   "id": "political-lafayette",
   "metadata": {
    "execution": {
     "iopub.execute_input": "2022-07-17T17:22:26.593289Z",
     "iopub.status.busy": "2022-07-17T17:22:26.592564Z",
     "iopub.status.idle": "2022-07-17T17:22:26.598778Z",
     "shell.execute_reply": "2022-07-17T17:22:26.599386Z",
     "shell.execute_reply.started": "2022-07-17T17:14:20.339864Z"
    },
    "papermill": {
     "duration": 0.073695,
     "end_time": "2022-07-17T17:22:26.599575",
     "exception": false,
     "start_time": "2022-07-17T17:22:26.525880",
     "status": "completed"
    },
    "tags": []
   },
   "outputs": [
    {
     "name": "stdout",
     "output_type": "stream",
     "text": [
      "Old_Data: 32648\n",
      "New_Data: 31963\n",
      "No.of.outliers: 685\n"
     ]
    }
   ],
   "source": [
    "df5=df4.loc[(df4['age']<upper_limit)]\n",
    "print('Old_Data:',len(df4))\n",
    "print('New_Data:',len(df5))\n",
    "print('No.of.outliers:',len(df4)-len(df5))"
   ]
  },
  {
   "cell_type": "code",
   "execution_count": 19,
   "id": "vertical-spokesman",
   "metadata": {
    "execution": {
     "iopub.execute_input": "2022-07-17T17:22:26.722763Z",
     "iopub.status.busy": "2022-07-17T17:22:26.722034Z",
     "iopub.status.idle": "2022-07-17T17:22:26.735401Z",
     "shell.execute_reply": "2022-07-17T17:22:26.734840Z",
     "shell.execute_reply.started": "2022-07-17T17:14:20.351740Z"
    },
    "papermill": {
     "duration": 0.07518,
     "end_time": "2022-07-17T17:22:26.735547",
     "exception": false,
     "start_time": "2022-07-17T17:22:26.660367",
     "status": "completed"
    },
    "tags": []
   },
   "outputs": [
    {
     "data": {
      "text/html": [
       "<div>\n",
       "<style scoped>\n",
       "    .dataframe tbody tr th:only-of-type {\n",
       "        vertical-align: middle;\n",
       "    }\n",
       "\n",
       "    .dataframe tbody tr th {\n",
       "        vertical-align: top;\n",
       "    }\n",
       "\n",
       "    .dataframe thead th {\n",
       "        text-align: right;\n",
       "    }\n",
       "</style>\n",
       "<table border=\"1\" class=\"dataframe\">\n",
       "  <thead>\n",
       "    <tr style=\"text-align: right;\">\n",
       "      <th></th>\n",
       "      <th>bike_name</th>\n",
       "      <th>price</th>\n",
       "      <th>kms_driven</th>\n",
       "      <th>owner</th>\n",
       "      <th>age</th>\n",
       "    </tr>\n",
       "  </thead>\n",
       "  <tbody>\n",
       "    <tr>\n",
       "      <th>0</th>\n",
       "      <td>TVS Star City Plus Dual Tone 110cc</td>\n",
       "      <td>35000</td>\n",
       "      <td>17654</td>\n",
       "      <td>First Owner</td>\n",
       "      <td>3</td>\n",
       "    </tr>\n",
       "    <tr>\n",
       "      <th>1</th>\n",
       "      <td>Royal Enfield Classic 350cc</td>\n",
       "      <td>119900</td>\n",
       "      <td>11000</td>\n",
       "      <td>First Owner</td>\n",
       "      <td>4</td>\n",
       "    </tr>\n",
       "    <tr>\n",
       "      <th>2</th>\n",
       "      <td>Triumph Daytona 675R</td>\n",
       "      <td>600000</td>\n",
       "      <td>110</td>\n",
       "      <td>First Owner</td>\n",
       "      <td>8</td>\n",
       "    </tr>\n",
       "    <tr>\n",
       "      <th>3</th>\n",
       "      <td>TVS Apache RTR 180cc</td>\n",
       "      <td>65000</td>\n",
       "      <td>16329</td>\n",
       "      <td>First Owner</td>\n",
       "      <td>4</td>\n",
       "    </tr>\n",
       "    <tr>\n",
       "      <th>4</th>\n",
       "      <td>Yamaha FZ S V 2.0 150cc-Ltd. Edition</td>\n",
       "      <td>80000</td>\n",
       "      <td>10000</td>\n",
       "      <td>First Owner</td>\n",
       "      <td>3</td>\n",
       "    </tr>\n",
       "    <tr>\n",
       "      <th>5</th>\n",
       "      <td>Yamaha FZs 150cc</td>\n",
       "      <td>53499</td>\n",
       "      <td>25000</td>\n",
       "      <td>First Owner</td>\n",
       "      <td>6</td>\n",
       "    </tr>\n",
       "    <tr>\n",
       "      <th>6</th>\n",
       "      <td>Honda CB Hornet 160R  ABS DLX</td>\n",
       "      <td>85000</td>\n",
       "      <td>8200</td>\n",
       "      <td>First Owner</td>\n",
       "      <td>3</td>\n",
       "    </tr>\n",
       "    <tr>\n",
       "      <th>7</th>\n",
       "      <td>Hero Splendor Plus Self Alloy 100cc</td>\n",
       "      <td>45000</td>\n",
       "      <td>12645</td>\n",
       "      <td>First Owner</td>\n",
       "      <td>3</td>\n",
       "    </tr>\n",
       "    <tr>\n",
       "      <th>8</th>\n",
       "      <td>Royal Enfield Thunderbird X 350cc</td>\n",
       "      <td>145000</td>\n",
       "      <td>9190</td>\n",
       "      <td>First Owner</td>\n",
       "      <td>3</td>\n",
       "    </tr>\n",
       "    <tr>\n",
       "      <th>9</th>\n",
       "      <td>Royal Enfield Classic Desert Storm 500cc</td>\n",
       "      <td>88000</td>\n",
       "      <td>19000</td>\n",
       "      <td>Second Owner</td>\n",
       "      <td>7</td>\n",
       "    </tr>\n",
       "    <tr>\n",
       "      <th>10</th>\n",
       "      <td>Yamaha YZF-R15 2.0 150cc</td>\n",
       "      <td>72000</td>\n",
       "      <td>20000</td>\n",
       "      <td>First Owner</td>\n",
       "      <td>7</td>\n",
       "    </tr>\n",
       "    <tr>\n",
       "      <th>11</th>\n",
       "      <td>Yamaha FZ25 250cc</td>\n",
       "      <td>95000</td>\n",
       "      <td>9665</td>\n",
       "      <td>First Owner</td>\n",
       "      <td>4</td>\n",
       "    </tr>\n",
       "  </tbody>\n",
       "</table>\n",
       "</div>"
      ],
      "text/plain": [
       "                                   bike_name   price  kms_driven  \\\n",
       "0         TVS Star City Plus Dual Tone 110cc   35000       17654   \n",
       "1                Royal Enfield Classic 350cc  119900       11000   \n",
       "2                       Triumph Daytona 675R  600000         110   \n",
       "3                       TVS Apache RTR 180cc   65000       16329   \n",
       "4       Yamaha FZ S V 2.0 150cc-Ltd. Edition   80000       10000   \n",
       "5                           Yamaha FZs 150cc   53499       25000   \n",
       "6              Honda CB Hornet 160R  ABS DLX   85000        8200   \n",
       "7        Hero Splendor Plus Self Alloy 100cc   45000       12645   \n",
       "8          Royal Enfield Thunderbird X 350cc  145000        9190   \n",
       "9   Royal Enfield Classic Desert Storm 500cc   88000       19000   \n",
       "10                  Yamaha YZF-R15 2.0 150cc   72000       20000   \n",
       "11                         Yamaha FZ25 250cc   95000        9665   \n",
       "\n",
       "           owner  age  \n",
       "0    First Owner    3  \n",
       "1    First Owner    4  \n",
       "2    First Owner    8  \n",
       "3    First Owner    4  \n",
       "4    First Owner    3  \n",
       "5    First Owner    6  \n",
       "6    First Owner    3  \n",
       "7    First Owner    3  \n",
       "8    First Owner    3  \n",
       "9   Second Owner    7  \n",
       "10   First Owner    7  \n",
       "11   First Owner    4  "
      ]
     },
     "execution_count": 19,
     "metadata": {},
     "output_type": "execute_result"
    }
   ],
   "source": [
    "df5.head(12)"
   ]
  },
  {
   "cell_type": "code",
   "execution_count": 20,
   "id": "tutorial-chemical",
   "metadata": {
    "execution": {
     "iopub.execute_input": "2022-07-17T17:22:26.862323Z",
     "iopub.status.busy": "2022-07-17T17:22:26.861651Z",
     "iopub.status.idle": "2022-07-17T17:22:26.977205Z",
     "shell.execute_reply": "2022-07-17T17:22:26.977770Z",
     "shell.execute_reply.started": "2022-07-17T17:14:20.372399Z"
    },
    "papermill": {
     "duration": 0.181508,
     "end_time": "2022-07-17T17:22:26.977942",
     "exception": false,
     "start_time": "2022-07-17T17:22:26.796434",
     "status": "completed"
    },
    "tags": []
   },
   "outputs": [
    {
     "name": "stderr",
     "output_type": "stream",
     "text": [
      "/opt/conda/lib/python3.7/site-packages/seaborn/_decorators.py:43: FutureWarning: Pass the following variable as a keyword arg: x. From version 0.12, the only valid positional argument will be `data`, and passing other arguments without an explicit keyword will result in an error or misinterpretation.\n",
      "  FutureWarning\n"
     ]
    },
    {
     "data": {
      "text/plain": [
       "<AxesSubplot:xlabel='age'>"
      ]
     },
     "execution_count": 20,
     "metadata": {},
     "output_type": "execute_result"
    },
    {
     "data": {
      "image/png": "[encoded data removed]",
      "text/plain": [
       "<Figure size 432x288 with 1 Axes>"
      ]
     },
     "metadata": {
      "needs_background": "light"
     },
     "output_type": "display_data"
    }
   ],
   "source": [
    "sns.boxplot(df5['age'])"
   ]
  },
  {
   "cell_type": "code",
   "execution_count": 21,
   "id": "greek-thumb",
   "metadata": {
    "execution": {
     "iopub.execute_input": "2022-07-17T17:22:27.107124Z",
     "iopub.status.busy": "2022-07-17T17:22:27.106067Z",
     "iopub.status.idle": "2022-07-17T17:22:27.115401Z",
     "shell.execute_reply": "2022-07-17T17:22:27.115913Z",
     "shell.execute_reply.started": "2022-07-17T17:14:20.496462Z"
    },
    "papermill": {
     "duration": 0.077748,
     "end_time": "2022-07-17T17:22:27.116072",
     "exception": false,
     "start_time": "2022-07-17T17:22:27.038324",
     "status": "completed"
    },
    "tags": []
   },
   "outputs": [
    {
     "data": {
      "text/html": [
       "<div>\n",
       "<style scoped>\n",
       "    .dataframe tbody tr th:only-of-type {\n",
       "        vertical-align: middle;\n",
       "    }\n",
       "\n",
       "    .dataframe tbody tr th {\n",
       "        vertical-align: top;\n",
       "    }\n",
       "\n",
       "    .dataframe thead th {\n",
       "        text-align: right;\n",
       "    }\n",
       "</style>\n",
       "<table border=\"1\" class=\"dataframe\">\n",
       "  <thead>\n",
       "    <tr style=\"text-align: right;\">\n",
       "      <th></th>\n",
       "      <th>bike_name</th>\n",
       "      <th>price</th>\n",
       "      <th>kms_driven</th>\n",
       "      <th>owner</th>\n",
       "      <th>age</th>\n",
       "    </tr>\n",
       "  </thead>\n",
       "  <tbody>\n",
       "    <tr>\n",
       "      <th>0</th>\n",
       "      <td>TVS Star City Plus Dual Tone 110cc</td>\n",
       "      <td>35000</td>\n",
       "      <td>17654</td>\n",
       "      <td>First Owner</td>\n",
       "      <td>3</td>\n",
       "    </tr>\n",
       "    <tr>\n",
       "      <th>1</th>\n",
       "      <td>Royal Enfield Classic 350cc</td>\n",
       "      <td>119900</td>\n",
       "      <td>11000</td>\n",
       "      <td>First Owner</td>\n",
       "      <td>4</td>\n",
       "    </tr>\n",
       "    <tr>\n",
       "      <th>2</th>\n",
       "      <td>Triumph Daytona 675R</td>\n",
       "      <td>600000</td>\n",
       "      <td>110</td>\n",
       "      <td>First Owner</td>\n",
       "      <td>8</td>\n",
       "    </tr>\n",
       "    <tr>\n",
       "      <th>3</th>\n",
       "      <td>TVS Apache RTR 180cc</td>\n",
       "      <td>65000</td>\n",
       "      <td>16329</td>\n",
       "      <td>First Owner</td>\n",
       "      <td>4</td>\n",
       "    </tr>\n",
       "    <tr>\n",
       "      <th>4</th>\n",
       "      <td>Yamaha FZ S V 2.0 150cc-Ltd. Edition</td>\n",
       "      <td>80000</td>\n",
       "      <td>10000</td>\n",
       "      <td>First Owner</td>\n",
       "      <td>3</td>\n",
       "    </tr>\n",
       "    <tr>\n",
       "      <th>5</th>\n",
       "      <td>Yamaha FZs 150cc</td>\n",
       "      <td>53499</td>\n",
       "      <td>25000</td>\n",
       "      <td>First Owner</td>\n",
       "      <td>6</td>\n",
       "    </tr>\n",
       "    <tr>\n",
       "      <th>6</th>\n",
       "      <td>Honda CB Hornet 160R  ABS DLX</td>\n",
       "      <td>85000</td>\n",
       "      <td>8200</td>\n",
       "      <td>First Owner</td>\n",
       "      <td>3</td>\n",
       "    </tr>\n",
       "    <tr>\n",
       "      <th>7</th>\n",
       "      <td>Hero Splendor Plus Self Alloy 100cc</td>\n",
       "      <td>45000</td>\n",
       "      <td>12645</td>\n",
       "      <td>First Owner</td>\n",
       "      <td>3</td>\n",
       "    </tr>\n",
       "    <tr>\n",
       "      <th>8</th>\n",
       "      <td>Royal Enfield Thunderbird X 350cc</td>\n",
       "      <td>145000</td>\n",
       "      <td>9190</td>\n",
       "      <td>First Owner</td>\n",
       "      <td>3</td>\n",
       "    </tr>\n",
       "    <tr>\n",
       "      <th>9</th>\n",
       "      <td>Royal Enfield Classic Desert Storm 500cc</td>\n",
       "      <td>88000</td>\n",
       "      <td>19000</td>\n",
       "      <td>Second Owner</td>\n",
       "      <td>7</td>\n",
       "    </tr>\n",
       "  </tbody>\n",
       "</table>\n",
       "</div>"
      ],
      "text/plain": [
       "                                  bike_name   price  kms_driven         owner  \\\n",
       "0        TVS Star City Plus Dual Tone 110cc   35000       17654   First Owner   \n",
       "1               Royal Enfield Classic 350cc  119900       11000   First Owner   \n",
       "2                      Triumph Daytona 675R  600000         110   First Owner   \n",
       "3                      TVS Apache RTR 180cc   65000       16329   First Owner   \n",
       "4      Yamaha FZ S V 2.0 150cc-Ltd. Edition   80000       10000   First Owner   \n",
       "5                          Yamaha FZs 150cc   53499       25000   First Owner   \n",
       "6             Honda CB Hornet 160R  ABS DLX   85000        8200   First Owner   \n",
       "7       Hero Splendor Plus Self Alloy 100cc   45000       12645   First Owner   \n",
       "8         Royal Enfield Thunderbird X 350cc  145000        9190   First Owner   \n",
       "9  Royal Enfield Classic Desert Storm 500cc   88000       19000  Second Owner   \n",
       "\n",
       "   age  \n",
       "0    3  \n",
       "1    4  \n",
       "2    8  \n",
       "3    4  \n",
       "4    3  \n",
       "5    6  \n",
       "6    3  \n",
       "7    3  \n",
       "8    3  \n",
       "9    7  "
      ]
     },
     "execution_count": 21,
     "metadata": {},
     "output_type": "execute_result"
    }
   ],
   "source": [
    "df5.head(10)"
   ]
  },
  {
   "cell_type": "code",
   "execution_count": 22,
   "id": "educational-arthritis",
   "metadata": {
    "execution": {
     "iopub.execute_input": "2022-07-17T17:22:27.241793Z",
     "iopub.status.busy": "2022-07-17T17:22:27.240814Z",
     "iopub.status.idle": "2022-07-17T17:22:27.246389Z",
     "shell.execute_reply": "2022-07-17T17:22:27.246966Z",
     "shell.execute_reply.started": "2022-07-17T17:14:20.510588Z"
    },
    "papermill": {
     "duration": 0.06986,
     "end_time": "2022-07-17T17:22:27.247127",
     "exception": false,
     "start_time": "2022-07-17T17:22:27.177267",
     "status": "completed"
    },
    "tags": []
   },
   "outputs": [
    {
     "data": {
      "text/plain": [
       "750000"
      ]
     },
     "execution_count": 22,
     "metadata": {},
     "output_type": "execute_result"
    }
   ],
   "source": [
    "df5['kms_driven'].max()"
   ]
  },
  {
   "cell_type": "code",
   "execution_count": 23,
   "id": "cloudy-duplicate",
   "metadata": {
    "execution": {
     "iopub.execute_input": "2022-07-17T17:22:27.373596Z",
     "iopub.status.busy": "2022-07-17T17:22:27.372593Z",
     "iopub.status.idle": "2022-07-17T17:22:27.498578Z",
     "shell.execute_reply": "2022-07-17T17:22:27.497889Z",
     "shell.execute_reply.started": "2022-07-17T17:14:20.525538Z"
    },
    "papermill": {
     "duration": 0.190665,
     "end_time": "2022-07-17T17:22:27.498722",
     "exception": false,
     "start_time": "2022-07-17T17:22:27.308057",
     "status": "completed"
    },
    "tags": []
   },
   "outputs": [
    {
     "name": "stderr",
     "output_type": "stream",
     "text": [
      "/opt/conda/lib/python3.7/site-packages/seaborn/_decorators.py:43: FutureWarning: Pass the following variable as a keyword arg: x. From version 0.12, the only valid positional argument will be `data`, and passing other arguments without an explicit keyword will result in an error or misinterpretation.\n",
      "  FutureWarning\n"
     ]
    },
    {
     "data": {
      "text/plain": [
       "<AxesSubplot:xlabel='kms_driven'>"
      ]
     },
     "execution_count": 23,
     "metadata": {},
     "output_type": "execute_result"
    },
    {
     "data": {
      "image/png": "[encoded data removed]",
      "text/plain": [
       "<Figure size 432x288 with 1 Axes>"
      ]
     },
     "metadata": {
      "needs_background": "light"
     },
     "output_type": "display_data"
    }
   ],
   "source": [
    "sns.boxplot(df5['kms_driven'])"
   ]
  },
  {
   "cell_type": "code",
   "execution_count": 24,
   "id": "generic-convergence",
   "metadata": {
    "execution": {
     "iopub.execute_input": "2022-07-17T17:22:27.629103Z",
     "iopub.status.busy": "2022-07-17T17:22:27.628140Z",
     "iopub.status.idle": "2022-07-17T17:22:27.636094Z",
     "shell.execute_reply": "2022-07-17T17:22:27.635587Z",
     "shell.execute_reply.started": "2022-07-17T17:14:20.658811Z"
    },
    "papermill": {
     "duration": 0.075266,
     "end_time": "2022-07-17T17:22:27.636267",
     "exception": false,
     "start_time": "2022-07-17T17:22:27.561001",
     "status": "completed"
    },
    "tags": []
   },
   "outputs": [
    {
     "name": "stdout",
     "output_type": "stream",
     "text": [
      "upper_limit_1: 100071.41345750711\n"
     ]
    }
   ],
   "source": [
    "upper_limit_1=df5['kms_driven'].mean()+3.4*df5['kms_driven'].std()\n",
    "print('upper_limit_1:',upper_limit_1)"
   ]
  },
  {
   "cell_type": "code",
   "execution_count": 25,
   "id": "minor-sending",
   "metadata": {
    "execution": {
     "iopub.execute_input": "2022-07-17T17:22:27.770643Z",
     "iopub.status.busy": "2022-07-17T17:22:27.769682Z",
     "iopub.status.idle": "2022-07-17T17:22:27.790028Z",
     "shell.execute_reply": "2022-07-17T17:22:27.790736Z",
     "shell.execute_reply.started": "2022-07-17T17:14:20.667792Z"
    },
    "papermill": {
     "duration": 0.089367,
     "end_time": "2022-07-17T17:22:27.790925",
     "exception": false,
     "start_time": "2022-07-17T17:22:27.701558",
     "status": "completed"
    },
    "tags": []
   },
   "outputs": [
    {
     "data": {
      "text/html": [
       "<div>\n",
       "<style scoped>\n",
       "    .dataframe tbody tr th:only-of-type {\n",
       "        vertical-align: middle;\n",
       "    }\n",
       "\n",
       "    .dataframe tbody tr th {\n",
       "        vertical-align: top;\n",
       "    }\n",
       "\n",
       "    .dataframe thead th {\n",
       "        text-align: right;\n",
       "    }\n",
       "</style>\n",
       "<table border=\"1\" class=\"dataframe\">\n",
       "  <thead>\n",
       "    <tr style=\"text-align: right;\">\n",
       "      <th></th>\n",
       "      <th>bike_name</th>\n",
       "      <th>price</th>\n",
       "      <th>kms_driven</th>\n",
       "      <th>owner</th>\n",
       "      <th>age</th>\n",
       "    </tr>\n",
       "  </thead>\n",
       "  <tbody>\n",
       "    <tr>\n",
       "      <th>50</th>\n",
       "      <td>Yamaha FZ 150cc</td>\n",
       "      <td>40000</td>\n",
       "      <td>357000</td>\n",
       "      <td>First Owner</td>\n",
       "      <td>8</td>\n",
       "    </tr>\n",
       "    <tr>\n",
       "      <th>57</th>\n",
       "      <td>Yamaha SZ 150cc</td>\n",
       "      <td>25000</td>\n",
       "      <td>172082</td>\n",
       "      <td>First Owner</td>\n",
       "      <td>9</td>\n",
       "    </tr>\n",
       "    <tr>\n",
       "      <th>589</th>\n",
       "      <td>Honda CB Unicorn Dazzler 150cc</td>\n",
       "      <td>16800</td>\n",
       "      <td>134200</td>\n",
       "      <td>First Owner</td>\n",
       "      <td>10</td>\n",
       "    </tr>\n",
       "    <tr>\n",
       "      <th>955</th>\n",
       "      <td>Hero Karizma R 223cc</td>\n",
       "      <td>27000</td>\n",
       "      <td>101250</td>\n",
       "      <td>Third Owner</td>\n",
       "      <td>14</td>\n",
       "    </tr>\n",
       "    <tr>\n",
       "      <th>1244</th>\n",
       "      <td>Hero Karizma R 223cc</td>\n",
       "      <td>27000</td>\n",
       "      <td>101250</td>\n",
       "      <td>Third Owner</td>\n",
       "      <td>14</td>\n",
       "    </tr>\n",
       "    <tr>\n",
       "      <th>1280</th>\n",
       "      <td>Bajaj CT 100 100cc</td>\n",
       "      <td>10600</td>\n",
       "      <td>107000</td>\n",
       "      <td>First Owner</td>\n",
       "      <td>16</td>\n",
       "    </tr>\n",
       "    <tr>\n",
       "      <th>1872</th>\n",
       "      <td>Honda Dream Yuga 110cc</td>\n",
       "      <td>30000</td>\n",
       "      <td>105500</td>\n",
       "      <td>First Owner</td>\n",
       "      <td>8</td>\n",
       "    </tr>\n",
       "    <tr>\n",
       "      <th>2112</th>\n",
       "      <td>Honda Dream Yuga 110cc</td>\n",
       "      <td>30000</td>\n",
       "      <td>105500</td>\n",
       "      <td>First Owner</td>\n",
       "      <td>8</td>\n",
       "    </tr>\n",
       "    <tr>\n",
       "      <th>2658</th>\n",
       "      <td>Bajaj Discover 125cc</td>\n",
       "      <td>13000</td>\n",
       "      <td>135000</td>\n",
       "      <td>First Owner</td>\n",
       "      <td>10</td>\n",
       "    </tr>\n",
       "    <tr>\n",
       "      <th>2759</th>\n",
       "      <td>Royal Enfield Thunderbird 350cc</td>\n",
       "      <td>110000</td>\n",
       "      <td>100670</td>\n",
       "      <td>First Owner</td>\n",
       "      <td>5</td>\n",
       "    </tr>\n",
       "    <tr>\n",
       "      <th>2939</th>\n",
       "      <td>Bajaj Discover 100cc</td>\n",
       "      <td>27000</td>\n",
       "      <td>102892</td>\n",
       "      <td>First Owner</td>\n",
       "      <td>8</td>\n",
       "    </tr>\n",
       "    <tr>\n",
       "      <th>3398</th>\n",
       "      <td>Bajaj Discover 125cc</td>\n",
       "      <td>18000</td>\n",
       "      <td>403833</td>\n",
       "      <td>First Owner</td>\n",
       "      <td>15</td>\n",
       "    </tr>\n",
       "    <tr>\n",
       "      <th>3401</th>\n",
       "      <td>Royal Enfield Thunderbird 350cc</td>\n",
       "      <td>110000</td>\n",
       "      <td>100670</td>\n",
       "      <td>First Owner</td>\n",
       "      <td>5</td>\n",
       "    </tr>\n",
       "    <tr>\n",
       "      <th>3482</th>\n",
       "      <td>Yamaha FZs 150cc</td>\n",
       "      <td>65000</td>\n",
       "      <td>216000</td>\n",
       "      <td>First Owner</td>\n",
       "      <td>8</td>\n",
       "    </tr>\n",
       "    <tr>\n",
       "      <th>3587</th>\n",
       "      <td>Bajaj Discover 125cc</td>\n",
       "      <td>13000</td>\n",
       "      <td>135000</td>\n",
       "      <td>First Owner</td>\n",
       "      <td>10</td>\n",
       "    </tr>\n",
       "    <tr>\n",
       "      <th>4664</th>\n",
       "      <td>Royal Enfield Bullet Electra 350cc</td>\n",
       "      <td>41000</td>\n",
       "      <td>120000</td>\n",
       "      <td>First Owner</td>\n",
       "      <td>17</td>\n",
       "    </tr>\n",
       "    <tr>\n",
       "      <th>4760</th>\n",
       "      <td>Royal Enfield Bullet Electra 350cc</td>\n",
       "      <td>91804</td>\n",
       "      <td>300965</td>\n",
       "      <td>First Owner</td>\n",
       "      <td>7</td>\n",
       "    </tr>\n",
       "    <tr>\n",
       "      <th>4856</th>\n",
       "      <td>TVS Apache 150cc</td>\n",
       "      <td>23000</td>\n",
       "      <td>174638</td>\n",
       "      <td>First Owner</td>\n",
       "      <td>14</td>\n",
       "    </tr>\n",
       "    <tr>\n",
       "      <th>4986</th>\n",
       "      <td>TVS Apache 150cc</td>\n",
       "      <td>23000</td>\n",
       "      <td>174638</td>\n",
       "      <td>First Owner</td>\n",
       "      <td>14</td>\n",
       "    </tr>\n",
       "    <tr>\n",
       "      <th>5144</th>\n",
       "      <td>Bajaj Discover 125cc</td>\n",
       "      <td>10500</td>\n",
       "      <td>717794</td>\n",
       "      <td>First Owner</td>\n",
       "      <td>15</td>\n",
       "    </tr>\n",
       "    <tr>\n",
       "      <th>5200</th>\n",
       "      <td>Bajaj Discover 135cc</td>\n",
       "      <td>13500</td>\n",
       "      <td>477976</td>\n",
       "      <td>First Owner</td>\n",
       "      <td>14</td>\n",
       "    </tr>\n",
       "    <tr>\n",
       "      <th>5311</th>\n",
       "      <td>Bajaj Discover 135cc</td>\n",
       "      <td>13500</td>\n",
       "      <td>477976</td>\n",
       "      <td>First Owner</td>\n",
       "      <td>14</td>\n",
       "    </tr>\n",
       "    <tr>\n",
       "      <th>5670</th>\n",
       "      <td>Honda CBR 250R Repsol</td>\n",
       "      <td>106000</td>\n",
       "      <td>233011</td>\n",
       "      <td>Second Owner</td>\n",
       "      <td>4</td>\n",
       "    </tr>\n",
       "    <tr>\n",
       "      <th>6011</th>\n",
       "      <td>Royal Enfield Bullet Twinspark 500cc</td>\n",
       "      <td>82000</td>\n",
       "      <td>146642</td>\n",
       "      <td>First Owner</td>\n",
       "      <td>7</td>\n",
       "    </tr>\n",
       "    <tr>\n",
       "      <th>7311</th>\n",
       "      <td>TVS Apache RTR 180cc</td>\n",
       "      <td>70000</td>\n",
       "      <td>207102</td>\n",
       "      <td>First Owner</td>\n",
       "      <td>2</td>\n",
       "    </tr>\n",
       "    <tr>\n",
       "      <th>7603</th>\n",
       "      <td>Yamaha SZS 150cc</td>\n",
       "      <td>28000</td>\n",
       "      <td>566931</td>\n",
       "      <td>First Owner</td>\n",
       "      <td>5</td>\n",
       "    </tr>\n",
       "    <tr>\n",
       "      <th>7633</th>\n",
       "      <td>Hero Splendor Pro 100cc</td>\n",
       "      <td>18000</td>\n",
       "      <td>750000</td>\n",
       "      <td>First Owner</td>\n",
       "      <td>10</td>\n",
       "    </tr>\n",
       "    <tr>\n",
       "      <th>7872</th>\n",
       "      <td>Bajaj Discover 125cc</td>\n",
       "      <td>29600</td>\n",
       "      <td>105000</td>\n",
       "      <td>First Owner</td>\n",
       "      <td>15</td>\n",
       "    </tr>\n",
       "    <tr>\n",
       "      <th>8183</th>\n",
       "      <td>Royal Enfield Thunderbird 350cc</td>\n",
       "      <td>54000</td>\n",
       "      <td>250841</td>\n",
       "      <td>First Owner</td>\n",
       "      <td>11</td>\n",
       "    </tr>\n",
       "    <tr>\n",
       "      <th>8345</th>\n",
       "      <td>Royal Enfield Classic 350cc</td>\n",
       "      <td>113000</td>\n",
       "      <td>286055</td>\n",
       "      <td>First Owner</td>\n",
       "      <td>5</td>\n",
       "    </tr>\n",
       "    <tr>\n",
       "      <th>8365</th>\n",
       "      <td>Royal Enfield Classic 500cc</td>\n",
       "      <td>110000</td>\n",
       "      <td>194992</td>\n",
       "      <td>First Owner</td>\n",
       "      <td>11</td>\n",
       "    </tr>\n",
       "    <tr>\n",
       "      <th>8441</th>\n",
       "      <td>Hero Passion Pro 100cc</td>\n",
       "      <td>20000</td>\n",
       "      <td>150000</td>\n",
       "      <td>First Owner</td>\n",
       "      <td>16</td>\n",
       "    </tr>\n",
       "    <tr>\n",
       "      <th>8689</th>\n",
       "      <td>Bajaj Pulsar 150cc</td>\n",
       "      <td>28000</td>\n",
       "      <td>109521</td>\n",
       "      <td>First Owner</td>\n",
       "      <td>10</td>\n",
       "    </tr>\n",
       "    <tr>\n",
       "      <th>8830</th>\n",
       "      <td>Royal Enfield Classic 500cc</td>\n",
       "      <td>150000</td>\n",
       "      <td>141644</td>\n",
       "      <td>First Owner</td>\n",
       "      <td>11</td>\n",
       "    </tr>\n",
       "    <tr>\n",
       "      <th>8905</th>\n",
       "      <td>Royal Enfield Thunderbird 350cc</td>\n",
       "      <td>54000</td>\n",
       "      <td>250841</td>\n",
       "      <td>First Owner</td>\n",
       "      <td>11</td>\n",
       "    </tr>\n",
       "    <tr>\n",
       "      <th>8911</th>\n",
       "      <td>Hero Passion Pro 100cc</td>\n",
       "      <td>18000</td>\n",
       "      <td>253621</td>\n",
       "      <td>First Owner</td>\n",
       "      <td>11</td>\n",
       "    </tr>\n",
       "    <tr>\n",
       "      <th>8997</th>\n",
       "      <td>TVS Apache RTR 160cc</td>\n",
       "      <td>24000</td>\n",
       "      <td>266028</td>\n",
       "      <td>First Owner</td>\n",
       "      <td>10</td>\n",
       "    </tr>\n",
       "    <tr>\n",
       "      <th>9160</th>\n",
       "      <td>Honda CB Shine 125cc</td>\n",
       "      <td>20000</td>\n",
       "      <td>654984</td>\n",
       "      <td>First Owner</td>\n",
       "      <td>10</td>\n",
       "    </tr>\n",
       "    <tr>\n",
       "      <th>9248</th>\n",
       "      <td>Bajaj Pulsar 150cc</td>\n",
       "      <td>29500</td>\n",
       "      <td>115152</td>\n",
       "      <td>First Owner</td>\n",
       "      <td>8</td>\n",
       "    </tr>\n",
       "  </tbody>\n",
       "</table>\n",
       "</div>"
      ],
      "text/plain": [
       "                                 bike_name   price  kms_driven         owner  \\\n",
       "50                         Yamaha FZ 150cc   40000      357000   First Owner   \n",
       "57                         Yamaha SZ 150cc   25000      172082   First Owner   \n",
       "589         Honda CB Unicorn Dazzler 150cc   16800      134200   First Owner   \n",
       "955                   Hero Karizma R 223cc   27000      101250   Third Owner   \n",
       "1244                  Hero Karizma R 223cc   27000      101250   Third Owner   \n",
       "1280                    Bajaj CT 100 100cc   10600      107000   First Owner   \n",
       "1872                Honda Dream Yuga 110cc   30000      105500   First Owner   \n",
       "2112                Honda Dream Yuga 110cc   30000      105500   First Owner   \n",
       "2658                  Bajaj Discover 125cc   13000      135000   First Owner   \n",
       "2759       Royal Enfield Thunderbird 350cc  110000      100670   First Owner   \n",
       "2939                  Bajaj Discover 100cc   27000      102892   First Owner   \n",
       "3398                  Bajaj Discover 125cc   18000      403833   First Owner   \n",
       "3401       Royal Enfield Thunderbird 350cc  110000      100670   First Owner   \n",
       "3482                      Yamaha FZs 150cc   65000      216000   First Owner   \n",
       "3587                  Bajaj Discover 125cc   13000      135000   First Owner   \n",
       "4664    Royal Enfield Bullet Electra 350cc   41000      120000   First Owner   \n",
       "4760    Royal Enfield Bullet Electra 350cc   91804      300965   First Owner   \n",
       "4856                      TVS Apache 150cc   23000      174638   First Owner   \n",
       "4986                      TVS Apache 150cc   23000      174638   First Owner   \n",
       "5144                  Bajaj Discover 125cc   10500      717794   First Owner   \n",
       "5200                  Bajaj Discover 135cc   13500      477976   First Owner   \n",
       "5311                  Bajaj Discover 135cc   13500      477976   First Owner   \n",
       "5670                 Honda CBR 250R Repsol  106000      233011  Second Owner   \n",
       "6011  Royal Enfield Bullet Twinspark 500cc   82000      146642   First Owner   \n",
       "7311                  TVS Apache RTR 180cc   70000      207102   First Owner   \n",
       "7603                      Yamaha SZS 150cc   28000      566931   First Owner   \n",
       "7633               Hero Splendor Pro 100cc   18000      750000   First Owner   \n",
       "7872                  Bajaj Discover 125cc   29600      105000   First Owner   \n",
       "8183       Royal Enfield Thunderbird 350cc   54000      250841   First Owner   \n",
       "8345           Royal Enfield Classic 350cc  113000      286055   First Owner   \n",
       "8365           Royal Enfield Classic 500cc  110000      194992   First Owner   \n",
       "8441                Hero Passion Pro 100cc   20000      150000   First Owner   \n",
       "8689                    Bajaj Pulsar 150cc   28000      109521   First Owner   \n",
       "8830           Royal Enfield Classic 500cc  150000      141644   First Owner   \n",
       "8905       Royal Enfield Thunderbird 350cc   54000      250841   First Owner   \n",
       "8911                Hero Passion Pro 100cc   18000      253621   First Owner   \n",
       "8997                  TVS Apache RTR 160cc   24000      266028   First Owner   \n",
       "9160                  Honda CB Shine 125cc   20000      654984   First Owner   \n",
       "9248                    Bajaj Pulsar 150cc   29500      115152   First Owner   \n",
       "\n",
       "      age  \n",
       "50      8  \n",
       "57      9  \n",
       "589    10  \n",
       "955    14  \n",
       "1244   14  \n",
       "1280   16  \n",
       "1872    8  \n",
       "2112    8  \n",
       "2658   10  \n",
       "2759    5  \n",
       "2939    8  \n",
       "3398   15  \n",
       "3401    5  \n",
       "3482    8  \n",
       "3587   10  \n",
       "4664   17  \n",
       "4760    7  \n",
       "4856   14  \n",
       "4986   14  \n",
       "5144   15  \n",
       "5200   14  \n",
       "5311   14  \n",
       "5670    4  \n",
       "6011    7  \n",
       "7311    2  \n",
       "7603    5  \n",
       "7633   10  \n",
       "7872   15  \n",
       "8183   11  \n",
       "8345    5  \n",
       "8365   11  \n",
       "8441   16  \n",
       "8689   10  \n",
       "8830   11  \n",
       "8905   11  \n",
       "8911   11  \n",
       "8997   10  \n",
       "9160   10  \n",
       "9248    8  "
      ]
     },
     "execution_count": 25,
     "metadata": {},
     "output_type": "execute_result"
    }
   ],
   "source": [
    "df5.loc[(df5['kms_driven']>upper_limit_1)]"
   ]
  },
  {
   "cell_type": "code",
   "execution_count": 26,
   "id": "reported-hazard",
   "metadata": {
    "execution": {
     "iopub.execute_input": "2022-07-17T17:22:27.925275Z",
     "iopub.status.busy": "2022-07-17T17:22:27.924281Z",
     "iopub.status.idle": "2022-07-17T17:22:27.934765Z",
     "shell.execute_reply": "2022-07-17T17:22:27.934203Z",
     "shell.execute_reply.started": "2022-07-17T17:14:20.692216Z"
    },
    "papermill": {
     "duration": 0.078367,
     "end_time": "2022-07-17T17:22:27.934911",
     "exception": false,
     "start_time": "2022-07-17T17:22:27.856544",
     "status": "completed"
    },
    "tags": []
   },
   "outputs": [
    {
     "name": "stdout",
     "output_type": "stream",
     "text": [
      "Old_Data_1: 31963\n",
      "New_Data_1: 31924\n",
      "No.of.outliers_1: 39\n"
     ]
    }
   ],
   "source": [
    "df6=df5.loc[(df5['kms_driven']<upper_limit_1)]\n",
    "print('Old_Data_1:',len(df5))\n",
    "print('New_Data_1:',len(df6))\n",
    "print('No.of.outliers_1:',len(df5)-len(df6))"
   ]
  },
  {
   "cell_type": "code",
   "execution_count": 27,
   "id": "becoming-capacity",
   "metadata": {
    "execution": {
     "iopub.execute_input": "2022-07-17T17:22:28.070746Z",
     "iopub.status.busy": "2022-07-17T17:22:28.070122Z",
     "iopub.status.idle": "2022-07-17T17:22:28.076258Z",
     "shell.execute_reply": "2022-07-17T17:22:28.076767Z",
     "shell.execute_reply.started": "2022-07-17T17:14:20.704754Z"
    },
    "papermill": {
     "duration": 0.076075,
     "end_time": "2022-07-17T17:22:28.076930",
     "exception": false,
     "start_time": "2022-07-17T17:22:28.000855",
     "status": "completed"
    },
    "tags": []
   },
   "outputs": [
    {
     "data": {
      "text/plain": [
       "0        17654\n",
       "1        11000\n",
       "2          110\n",
       "3        16329\n",
       "4        10000\n",
       "         ...  \n",
       "32643    22000\n",
       "32644     6639\n",
       "32645    20373\n",
       "32646    84186\n",
       "32647    60857\n",
       "Name: kms_driven, Length: 31924, dtype: int32"
      ]
     },
     "execution_count": 27,
     "metadata": {},
     "output_type": "execute_result"
    }
   ],
   "source": [
    "df6['kms_driven']"
   ]
  },
  {
   "cell_type": "code",
   "execution_count": 28,
   "id": "attractive-authentication",
   "metadata": {
    "execution": {
     "iopub.execute_input": "2022-07-17T17:22:28.210338Z",
     "iopub.status.busy": "2022-07-17T17:22:28.209714Z",
     "iopub.status.idle": "2022-07-17T17:22:28.222131Z",
     "shell.execute_reply": "2022-07-17T17:22:28.221606Z",
     "shell.execute_reply.started": "2022-07-17T17:14:20.715552Z"
    },
    "papermill": {
     "duration": 0.079655,
     "end_time": "2022-07-17T17:22:28.222289",
     "exception": false,
     "start_time": "2022-07-17T17:22:28.142634",
     "status": "completed"
    },
    "tags": []
   },
   "outputs": [
    {
     "data": {
      "text/html": [
       "<div>\n",
       "<style scoped>\n",
       "    .dataframe tbody tr th:only-of-type {\n",
       "        vertical-align: middle;\n",
       "    }\n",
       "\n",
       "    .dataframe tbody tr th {\n",
       "        vertical-align: top;\n",
       "    }\n",
       "\n",
       "    .dataframe thead th {\n",
       "        text-align: right;\n",
       "    }\n",
       "</style>\n",
       "<table border=\"1\" class=\"dataframe\">\n",
       "  <thead>\n",
       "    <tr style=\"text-align: right;\">\n",
       "      <th></th>\n",
       "      <th>bike_name</th>\n",
       "      <th>price</th>\n",
       "      <th>kms_driven</th>\n",
       "      <th>owner</th>\n",
       "      <th>age</th>\n",
       "    </tr>\n",
       "  </thead>\n",
       "  <tbody>\n",
       "    <tr>\n",
       "      <th>0</th>\n",
       "      <td>TVS Star City Plus Dual Tone 110cc</td>\n",
       "      <td>35000</td>\n",
       "      <td>17654</td>\n",
       "      <td>First Owner</td>\n",
       "      <td>3</td>\n",
       "    </tr>\n",
       "    <tr>\n",
       "      <th>1</th>\n",
       "      <td>Royal Enfield Classic 350cc</td>\n",
       "      <td>119900</td>\n",
       "      <td>11000</td>\n",
       "      <td>First Owner</td>\n",
       "      <td>4</td>\n",
       "    </tr>\n",
       "    <tr>\n",
       "      <th>2</th>\n",
       "      <td>Triumph Daytona 675R</td>\n",
       "      <td>600000</td>\n",
       "      <td>110</td>\n",
       "      <td>First Owner</td>\n",
       "      <td>8</td>\n",
       "    </tr>\n",
       "    <tr>\n",
       "      <th>3</th>\n",
       "      <td>TVS Apache RTR 180cc</td>\n",
       "      <td>65000</td>\n",
       "      <td>16329</td>\n",
       "      <td>First Owner</td>\n",
       "      <td>4</td>\n",
       "    </tr>\n",
       "    <tr>\n",
       "      <th>4</th>\n",
       "      <td>Yamaha FZ S V 2.0 150cc-Ltd. Edition</td>\n",
       "      <td>80000</td>\n",
       "      <td>10000</td>\n",
       "      <td>First Owner</td>\n",
       "      <td>3</td>\n",
       "    </tr>\n",
       "    <tr>\n",
       "      <th>5</th>\n",
       "      <td>Yamaha FZs 150cc</td>\n",
       "      <td>53499</td>\n",
       "      <td>25000</td>\n",
       "      <td>First Owner</td>\n",
       "      <td>6</td>\n",
       "    </tr>\n",
       "    <tr>\n",
       "      <th>6</th>\n",
       "      <td>Honda CB Hornet 160R  ABS DLX</td>\n",
       "      <td>85000</td>\n",
       "      <td>8200</td>\n",
       "      <td>First Owner</td>\n",
       "      <td>3</td>\n",
       "    </tr>\n",
       "    <tr>\n",
       "      <th>7</th>\n",
       "      <td>Hero Splendor Plus Self Alloy 100cc</td>\n",
       "      <td>45000</td>\n",
       "      <td>12645</td>\n",
       "      <td>First Owner</td>\n",
       "      <td>3</td>\n",
       "    </tr>\n",
       "    <tr>\n",
       "      <th>8</th>\n",
       "      <td>Royal Enfield Thunderbird X 350cc</td>\n",
       "      <td>145000</td>\n",
       "      <td>9190</td>\n",
       "      <td>First Owner</td>\n",
       "      <td>3</td>\n",
       "    </tr>\n",
       "    <tr>\n",
       "      <th>9</th>\n",
       "      <td>Royal Enfield Classic Desert Storm 500cc</td>\n",
       "      <td>88000</td>\n",
       "      <td>19000</td>\n",
       "      <td>Second Owner</td>\n",
       "      <td>7</td>\n",
       "    </tr>\n",
       "  </tbody>\n",
       "</table>\n",
       "</div>"
      ],
      "text/plain": [
       "                                  bike_name   price  kms_driven         owner  \\\n",
       "0        TVS Star City Plus Dual Tone 110cc   35000       17654   First Owner   \n",
       "1               Royal Enfield Classic 350cc  119900       11000   First Owner   \n",
       "2                      Triumph Daytona 675R  600000         110   First Owner   \n",
       "3                      TVS Apache RTR 180cc   65000       16329   First Owner   \n",
       "4      Yamaha FZ S V 2.0 150cc-Ltd. Edition   80000       10000   First Owner   \n",
       "5                          Yamaha FZs 150cc   53499       25000   First Owner   \n",
       "6             Honda CB Hornet 160R  ABS DLX   85000        8200   First Owner   \n",
       "7       Hero Splendor Plus Self Alloy 100cc   45000       12645   First Owner   \n",
       "8         Royal Enfield Thunderbird X 350cc  145000        9190   First Owner   \n",
       "9  Royal Enfield Classic Desert Storm 500cc   88000       19000  Second Owner   \n",
       "\n",
       "   age  \n",
       "0    3  \n",
       "1    4  \n",
       "2    8  \n",
       "3    4  \n",
       "4    3  \n",
       "5    6  \n",
       "6    3  \n",
       "7    3  \n",
       "8    3  \n",
       "9    7  "
      ]
     },
     "execution_count": 28,
     "metadata": {},
     "output_type": "execute_result"
    }
   ],
   "source": [
    "df6.head(10)"
   ]
  },
  {
   "cell_type": "code",
   "execution_count": 29,
   "id": "future-picnic",
   "metadata": {
    "execution": {
     "iopub.execute_input": "2022-07-17T17:22:28.360879Z",
     "iopub.status.busy": "2022-07-17T17:22:28.359900Z",
     "iopub.status.idle": "2022-07-17T17:22:28.363992Z",
     "shell.execute_reply": "2022-07-17T17:22:28.363520Z",
     "shell.execute_reply.started": "2022-07-17T17:14:20.735004Z"
    },
    "papermill": {
     "duration": 0.074967,
     "end_time": "2022-07-17T17:22:28.364122",
     "exception": false,
     "start_time": "2022-07-17T17:22:28.289155",
     "status": "completed"
    },
    "tags": []
   },
   "outputs": [
    {
     "data": {
      "text/plain": [
       "(31924, 5)"
      ]
     },
     "execution_count": 29,
     "metadata": {},
     "output_type": "execute_result"
    }
   ],
   "source": [
    "df6.shape"
   ]
  },
  {
   "cell_type": "code",
   "execution_count": 30,
   "id": "unique-antenna",
   "metadata": {
    "execution": {
     "iopub.execute_input": "2022-07-17T17:22:28.501037Z",
     "iopub.status.busy": "2022-07-17T17:22:28.500437Z",
     "iopub.status.idle": "2022-07-17T17:22:28.969248Z",
     "shell.execute_reply": "2022-07-17T17:22:28.968558Z",
     "shell.execute_reply.started": "2022-07-17T17:14:20.741562Z"
    },
    "papermill": {
     "duration": 0.54058,
     "end_time": "2022-07-17T17:22:28.969389",
     "exception": false,
     "start_time": "2022-07-17T17:22:28.428809",
     "status": "completed"
    },
    "tags": []
   },
   "outputs": [
    {
     "name": "stderr",
     "output_type": "stream",
     "text": [
      "/opt/conda/lib/python3.7/site-packages/seaborn/distributions.py:2557: FutureWarning: `distplot` is a deprecated function and will be removed in a future version. Please adapt your code to use either `displot` (a figure-level function with similar flexibility) or `histplot` (an axes-level function for histograms).\n",
      "  warnings.warn(msg, FutureWarning)\n"
     ]
    },
    {
     "data": {
      "text/plain": [
       "<AxesSubplot:xlabel='price', ylabel='Density'>"
      ]
     },
     "execution_count": 30,
     "metadata": {},
     "output_type": "execute_result"
    },
    {
     "data": {
      "image/png": "[encoded data removed]",
      "text/plain": [
       "<Figure size 432x288 with 1 Axes>"
      ]
     },
     "metadata": {
      "needs_background": "light"
     },
     "output_type": "display_data"
    }
   ],
   "source": [
    "sns.distplot(df6['price'])"
   ]
  },
  {
   "cell_type": "code",
   "execution_count": 31,
   "id": "automotive-ethics",
   "metadata": {
    "execution": {
     "iopub.execute_input": "2022-07-17T17:22:29.129596Z",
     "iopub.status.busy": "2022-07-17T17:22:29.128669Z",
     "iopub.status.idle": "2022-07-17T17:22:29.253140Z",
     "shell.execute_reply": "2022-07-17T17:22:29.252640Z",
     "shell.execute_reply.started": "2022-07-17T17:14:21.231858Z"
    },
    "papermill": {
     "duration": 0.214368,
     "end_time": "2022-07-17T17:22:29.253309",
     "exception": false,
     "start_time": "2022-07-17T17:22:29.038941",
     "status": "completed"
    },
    "tags": []
   },
   "outputs": [
    {
     "name": "stderr",
     "output_type": "stream",
     "text": [
      "/opt/conda/lib/python3.7/site-packages/seaborn/_decorators.py:43: FutureWarning: Pass the following variable as a keyword arg: x. From version 0.12, the only valid positional argument will be `data`, and passing other arguments without an explicit keyword will result in an error or misinterpretation.\n",
      "  FutureWarning\n"
     ]
    },
    {
     "data": {
      "text/plain": [
       "<AxesSubplot:xlabel='price'>"
      ]
     },
     "execution_count": 31,
     "metadata": {},
     "output_type": "execute_result"
    },
    {
     "data": {
      "image/png": "[encoded data removed]",
      "text/plain": [
       "<Figure size 432x288 with 1 Axes>"
      ]
     },
     "metadata": {
      "needs_background": "light"
     },
     "output_type": "display_data"
    }
   ],
   "source": [
    "sns.boxplot(df6['price'])"
   ]
  },
  {
   "cell_type": "code",
   "execution_count": 32,
   "id": "incoming-valley",
   "metadata": {
    "execution": {
     "iopub.execute_input": "2022-07-17T17:22:29.396069Z",
     "iopub.status.busy": "2022-07-17T17:22:29.395432Z",
     "iopub.status.idle": "2022-07-17T17:22:29.403985Z",
     "shell.execute_reply": "2022-07-17T17:22:29.404545Z",
     "shell.execute_reply.started": "2022-07-17T17:14:21.362992Z"
    },
    "papermill": {
     "duration": 0.083108,
     "end_time": "2022-07-17T17:22:29.404740",
     "exception": false,
     "start_time": "2022-07-17T17:22:29.321632",
     "status": "completed"
    },
    "tags": []
   },
   "outputs": [
    {
     "data": {
      "text/plain": [
       "count    3.192400e+04\n",
       "mean     6.936156e+04\n",
       "std      9.139900e+04\n",
       "min      4.400000e+03\n",
       "25%      2.500000e+04\n",
       "50%      4.300000e+04\n",
       "75%      8.200000e+04\n",
       "max      1.900000e+06\n",
       "Name: price, dtype: float64"
      ]
     },
     "execution_count": 32,
     "metadata": {},
     "output_type": "execute_result"
    }
   ],
   "source": [
    "df6['price'].describe()"
   ]
  },
  {
   "cell_type": "code",
   "execution_count": 33,
   "id": "greater-typing",
   "metadata": {
    "execution": {
     "iopub.execute_input": "2022-07-17T17:22:29.550001Z",
     "iopub.status.busy": "2022-07-17T17:22:29.549368Z",
     "iopub.status.idle": "2022-07-17T17:22:29.554443Z",
     "shell.execute_reply": "2022-07-17T17:22:29.553778Z",
     "shell.execute_reply.started": "2022-07-17T17:19:41.635581Z"
    },
    "papermill": {
     "duration": 0.080033,
     "end_time": "2022-07-17T17:22:29.554581",
     "exception": false,
     "start_time": "2022-07-17T17:22:29.474548",
     "status": "completed"
    },
    "tags": []
   },
   "outputs": [
    {
     "name": "stdout",
     "output_type": "stream",
     "text": [
      "upper_limit_2: 105921.15687094998\n"
     ]
    }
   ],
   "source": [
    "upper_limit_2=df6['price'].mean()+0.4*df6['price'].std()\n",
    "print('upper_limit_2:',upper_limit_2)"
   ]
  },
  {
   "cell_type": "code",
   "execution_count": 34,
   "id": "fuzzy-ceremony",
   "metadata": {
    "execution": {
     "iopub.execute_input": "2022-07-17T17:22:29.696948Z",
     "iopub.status.busy": "2022-07-17T17:22:29.696341Z",
     "iopub.status.idle": "2022-07-17T17:22:29.712006Z",
     "shell.execute_reply": "2022-07-17T17:22:29.712560Z",
     "shell.execute_reply.started": "2022-07-17T17:19:45.770006Z"
    },
    "papermill": {
     "duration": 0.089177,
     "end_time": "2022-07-17T17:22:29.712734",
     "exception": false,
     "start_time": "2022-07-17T17:22:29.623557",
     "status": "completed"
    },
    "tags": []
   },
   "outputs": [
    {
     "data": {
      "text/html": [
       "<div>\n",
       "<style scoped>\n",
       "    .dataframe tbody tr th:only-of-type {\n",
       "        vertical-align: middle;\n",
       "    }\n",
       "\n",
       "    .dataframe tbody tr th {\n",
       "        vertical-align: top;\n",
       "    }\n",
       "\n",
       "    .dataframe thead th {\n",
       "        text-align: right;\n",
       "    }\n",
       "</style>\n",
       "<table border=\"1\" class=\"dataframe\">\n",
       "  <thead>\n",
       "    <tr style=\"text-align: right;\">\n",
       "      <th></th>\n",
       "      <th>bike_name</th>\n",
       "      <th>price</th>\n",
       "      <th>kms_driven</th>\n",
       "      <th>owner</th>\n",
       "      <th>age</th>\n",
       "    </tr>\n",
       "  </thead>\n",
       "  <tbody>\n",
       "    <tr>\n",
       "      <th>1</th>\n",
       "      <td>Royal Enfield Classic 350cc</td>\n",
       "      <td>119900</td>\n",
       "      <td>11000</td>\n",
       "      <td>First Owner</td>\n",
       "      <td>4</td>\n",
       "    </tr>\n",
       "    <tr>\n",
       "      <th>2</th>\n",
       "      <td>Triumph Daytona 675R</td>\n",
       "      <td>600000</td>\n",
       "      <td>110</td>\n",
       "      <td>First Owner</td>\n",
       "      <td>8</td>\n",
       "    </tr>\n",
       "    <tr>\n",
       "      <th>8</th>\n",
       "      <td>Royal Enfield Thunderbird X 350cc</td>\n",
       "      <td>145000</td>\n",
       "      <td>9190</td>\n",
       "      <td>First Owner</td>\n",
       "      <td>3</td>\n",
       "    </tr>\n",
       "    <tr>\n",
       "      <th>16</th>\n",
       "      <td>Bajaj Pulsar RS200 ABS</td>\n",
       "      <td>120000</td>\n",
       "      <td>23000</td>\n",
       "      <td>First Owner</td>\n",
       "      <td>3</td>\n",
       "    </tr>\n",
       "    <tr>\n",
       "      <th>18</th>\n",
       "      <td>Benelli 302R 300CC</td>\n",
       "      <td>240000</td>\n",
       "      <td>15025</td>\n",
       "      <td>Second Owner</td>\n",
       "      <td>3</td>\n",
       "    </tr>\n",
       "    <tr>\n",
       "      <th>...</th>\n",
       "      <td>...</td>\n",
       "      <td>...</td>\n",
       "      <td>...</td>\n",
       "      <td>...</td>\n",
       "      <td>...</td>\n",
       "    </tr>\n",
       "    <tr>\n",
       "      <th>32600</th>\n",
       "      <td>Yamaha Fazer 25 250cc</td>\n",
       "      <td>123000</td>\n",
       "      <td>14500</td>\n",
       "      <td>First Owner</td>\n",
       "      <td>4</td>\n",
       "    </tr>\n",
       "    <tr>\n",
       "      <th>32626</th>\n",
       "      <td>Harley-Davidson Street 750 ABS</td>\n",
       "      <td>450000</td>\n",
       "      <td>3430</td>\n",
       "      <td>First Owner</td>\n",
       "      <td>4</td>\n",
       "    </tr>\n",
       "    <tr>\n",
       "      <th>32627</th>\n",
       "      <td>Bajaj Dominar 400 ABS</td>\n",
       "      <td>139000</td>\n",
       "      <td>21300</td>\n",
       "      <td>First Owner</td>\n",
       "      <td>4</td>\n",
       "    </tr>\n",
       "    <tr>\n",
       "      <th>32636</th>\n",
       "      <td>KTM RC 390cc</td>\n",
       "      <td>196700</td>\n",
       "      <td>13216</td>\n",
       "      <td>First Owner</td>\n",
       "      <td>4</td>\n",
       "    </tr>\n",
       "    <tr>\n",
       "      <th>32638</th>\n",
       "      <td>Yamaha Fazer 25 250cc</td>\n",
       "      <td>123000</td>\n",
       "      <td>14500</td>\n",
       "      <td>First Owner</td>\n",
       "      <td>4</td>\n",
       "    </tr>\n",
       "  </tbody>\n",
       "</table>\n",
       "<p>4512 rows × 5 columns</p>\n",
       "</div>"
      ],
      "text/plain": [
       "                               bike_name   price  kms_driven         owner  \\\n",
       "1            Royal Enfield Classic 350cc  119900       11000   First Owner   \n",
       "2                   Triumph Daytona 675R  600000         110   First Owner   \n",
       "8      Royal Enfield Thunderbird X 350cc  145000        9190   First Owner   \n",
       "16                Bajaj Pulsar RS200 ABS  120000       23000   First Owner   \n",
       "18                    Benelli 302R 300CC  240000       15025  Second Owner   \n",
       "...                                  ...     ...         ...           ...   \n",
       "32600              Yamaha Fazer 25 250cc  123000       14500   First Owner   \n",
       "32626     Harley-Davidson Street 750 ABS  450000        3430   First Owner   \n",
       "32627              Bajaj Dominar 400 ABS  139000       21300   First Owner   \n",
       "32636                       KTM RC 390cc  196700       13216   First Owner   \n",
       "32638              Yamaha Fazer 25 250cc  123000       14500   First Owner   \n",
       "\n",
       "       age  \n",
       "1        4  \n",
       "2        8  \n",
       "8        3  \n",
       "16       3  \n",
       "18       3  \n",
       "...    ...  \n",
       "32600    4  \n",
       "32626    4  \n",
       "32627    4  \n",
       "32636    4  \n",
       "32638    4  \n",
       "\n",
       "[4512 rows x 5 columns]"
      ]
     },
     "execution_count": 34,
     "metadata": {},
     "output_type": "execute_result"
    }
   ],
   "source": [
    "df6.loc[(df6['price']>upper_limit_2)]"
   ]
  },
  {
   "cell_type": "code",
   "execution_count": 35,
   "id": "jewish-dragon",
   "metadata": {
    "execution": {
     "iopub.execute_input": "2022-07-17T17:22:29.853661Z",
     "iopub.status.busy": "2022-07-17T17:22:29.853031Z",
     "iopub.status.idle": "2022-07-17T17:22:29.865467Z",
     "shell.execute_reply": "2022-07-17T17:22:29.866028Z",
     "shell.execute_reply.started": "2022-07-17T17:19:46.009986Z"
    },
    "papermill": {
     "duration": 0.084369,
     "end_time": "2022-07-17T17:22:29.866206",
     "exception": false,
     "start_time": "2022-07-17T17:22:29.781837",
     "status": "completed"
    },
    "tags": []
   },
   "outputs": [
    {
     "data": {
      "text/html": [
       "<div>\n",
       "<style scoped>\n",
       "    .dataframe tbody tr th:only-of-type {\n",
       "        vertical-align: middle;\n",
       "    }\n",
       "\n",
       "    .dataframe tbody tr th {\n",
       "        vertical-align: top;\n",
       "    }\n",
       "\n",
       "    .dataframe thead th {\n",
       "        text-align: right;\n",
       "    }\n",
       "</style>\n",
       "<table border=\"1\" class=\"dataframe\">\n",
       "  <thead>\n",
       "    <tr style=\"text-align: right;\">\n",
       "      <th></th>\n",
       "      <th>bike_name</th>\n",
       "      <th>price</th>\n",
       "      <th>kms_driven</th>\n",
       "      <th>owner</th>\n",
       "      <th>age</th>\n",
       "    </tr>\n",
       "  </thead>\n",
       "  <tbody>\n",
       "    <tr>\n",
       "      <th>0</th>\n",
       "      <td>TVS Star City Plus Dual Tone 110cc</td>\n",
       "      <td>35000</td>\n",
       "      <td>17654</td>\n",
       "      <td>First Owner</td>\n",
       "      <td>3</td>\n",
       "    </tr>\n",
       "    <tr>\n",
       "      <th>3</th>\n",
       "      <td>TVS Apache RTR 180cc</td>\n",
       "      <td>65000</td>\n",
       "      <td>16329</td>\n",
       "      <td>First Owner</td>\n",
       "      <td>4</td>\n",
       "    </tr>\n",
       "    <tr>\n",
       "      <th>4</th>\n",
       "      <td>Yamaha FZ S V 2.0 150cc-Ltd. Edition</td>\n",
       "      <td>80000</td>\n",
       "      <td>10000</td>\n",
       "      <td>First Owner</td>\n",
       "      <td>3</td>\n",
       "    </tr>\n",
       "    <tr>\n",
       "      <th>5</th>\n",
       "      <td>Yamaha FZs 150cc</td>\n",
       "      <td>53499</td>\n",
       "      <td>25000</td>\n",
       "      <td>First Owner</td>\n",
       "      <td>6</td>\n",
       "    </tr>\n",
       "    <tr>\n",
       "      <th>6</th>\n",
       "      <td>Honda CB Hornet 160R  ABS DLX</td>\n",
       "      <td>85000</td>\n",
       "      <td>8200</td>\n",
       "      <td>First Owner</td>\n",
       "      <td>3</td>\n",
       "    </tr>\n",
       "  </tbody>\n",
       "</table>\n",
       "</div>"
      ],
      "text/plain": [
       "                              bike_name  price  kms_driven        owner  age\n",
       "0    TVS Star City Plus Dual Tone 110cc  35000       17654  First Owner    3\n",
       "3                  TVS Apache RTR 180cc  65000       16329  First Owner    4\n",
       "4  Yamaha FZ S V 2.0 150cc-Ltd. Edition  80000       10000  First Owner    3\n",
       "5                      Yamaha FZs 150cc  53499       25000  First Owner    6\n",
       "6         Honda CB Hornet 160R  ABS DLX  85000        8200  First Owner    3"
      ]
     },
     "execution_count": 35,
     "metadata": {},
     "output_type": "execute_result"
    }
   ],
   "source": [
    "df7=df6.loc[(df6['price']<upper_limit_2)]\n",
    "df7.head()"
   ]
  },
  {
   "cell_type": "code",
   "execution_count": 36,
   "id": "illegal-quarter",
   "metadata": {
    "execution": {
     "iopub.execute_input": "2022-07-17T17:22:30.010130Z",
     "iopub.status.busy": "2022-07-17T17:22:30.009536Z",
     "iopub.status.idle": "2022-07-17T17:22:30.016019Z",
     "shell.execute_reply": "2022-07-17T17:22:30.016527Z",
     "shell.execute_reply.started": "2022-07-17T17:19:46.256926Z"
    },
    "papermill": {
     "duration": 0.08121,
     "end_time": "2022-07-17T17:22:30.016705",
     "exception": false,
     "start_time": "2022-07-17T17:22:29.935495",
     "status": "completed"
    },
    "tags": []
   },
   "outputs": [
    {
     "name": "stdout",
     "output_type": "stream",
     "text": [
      "Old_Data_2: 31924\n",
      "New_Data_2: 27412\n",
      "No.of.outliers_2: 4512\n"
     ]
    }
   ],
   "source": [
    "\n",
    "print('Old_Data_2:',len(df6))\n",
    "print('New_Data_2:',len(df7))\n",
    "print('No.of.outliers_2:',len(df6)-len(df7))"
   ]
  },
  {
   "cell_type": "code",
   "execution_count": 37,
   "id": "engaged-sociology",
   "metadata": {
    "execution": {
     "iopub.execute_input": "2022-07-17T17:22:30.159456Z",
     "iopub.status.busy": "2022-07-17T17:22:30.158845Z",
     "iopub.status.idle": "2022-07-17T17:22:30.164057Z",
     "shell.execute_reply": "2022-07-17T17:22:30.164601Z",
     "shell.execute_reply.started": "2022-07-17T17:19:46.815558Z"
    },
    "papermill": {
     "duration": 0.077801,
     "end_time": "2022-07-17T17:22:30.164763",
     "exception": false,
     "start_time": "2022-07-17T17:22:30.086962",
     "status": "completed"
    },
    "tags": []
   },
   "outputs": [
    {
     "data": {
      "text/plain": [
       "105900"
      ]
     },
     "execution_count": 37,
     "metadata": {},
     "output_type": "execute_result"
    }
   ],
   "source": [
    "df7['price'].max()"
   ]
  },
  {
   "cell_type": "code",
   "execution_count": 38,
   "id": "particular-elite",
   "metadata": {
    "execution": {
     "iopub.execute_input": "2022-07-17T17:22:30.307743Z",
     "iopub.status.busy": "2022-07-17T17:22:30.307119Z",
     "iopub.status.idle": "2022-07-17T17:22:30.312680Z",
     "shell.execute_reply": "2022-07-17T17:22:30.313299Z",
     "shell.execute_reply.started": "2022-07-17T17:19:47.931588Z"
    },
    "papermill": {
     "duration": 0.078667,
     "end_time": "2022-07-17T17:22:30.313496",
     "exception": false,
     "start_time": "2022-07-17T17:22:30.234829",
     "status": "completed"
    },
    "tags": []
   },
   "outputs": [
    {
     "data": {
      "text/plain": [
       "4400"
      ]
     },
     "execution_count": 38,
     "metadata": {},
     "output_type": "execute_result"
    }
   ],
   "source": [
    "df7['price'].min()"
   ]
  },
  {
   "cell_type": "code",
   "execution_count": 39,
   "id": "thermal-rough",
   "metadata": {
    "execution": {
     "iopub.execute_input": "2022-07-17T17:22:30.461138Z",
     "iopub.status.busy": "2022-07-17T17:22:30.460422Z",
     "iopub.status.idle": "2022-07-17T17:22:30.597719Z",
     "shell.execute_reply": "2022-07-17T17:22:30.598245Z",
     "shell.execute_reply.started": "2022-07-17T17:19:48.756250Z"
    },
    "papermill": {
     "duration": 0.212832,
     "end_time": "2022-07-17T17:22:30.598433",
     "exception": false,
     "start_time": "2022-07-17T17:22:30.385601",
     "status": "completed"
    },
    "tags": []
   },
   "outputs": [],
   "source": [
    "from sklearn.preprocessing import LabelEncoder"
   ]
  },
  {
   "cell_type": "code",
   "execution_count": 40,
   "id": "timely-selection",
   "metadata": {
    "execution": {
     "iopub.execute_input": "2022-07-17T17:22:30.743565Z",
     "iopub.status.busy": "2022-07-17T17:22:30.742851Z",
     "iopub.status.idle": "2022-07-17T17:22:30.746648Z",
     "shell.execute_reply": "2022-07-17T17:22:30.747201Z",
     "shell.execute_reply.started": "2022-07-17T17:19:56.617619Z"
    },
    "papermill": {
     "duration": 0.077936,
     "end_time": "2022-07-17T17:22:30.747373",
     "exception": false,
     "start_time": "2022-07-17T17:22:30.669437",
     "status": "completed"
    },
    "tags": []
   },
   "outputs": [],
   "source": [
    "le_owner=LabelEncoder()"
   ]
  },
  {
   "cell_type": "code",
   "execution_count": 41,
   "id": "suspended-occasions",
   "metadata": {
    "execution": {
     "iopub.execute_input": "2022-07-17T17:22:30.894846Z",
     "iopub.status.busy": "2022-07-17T17:22:30.894262Z",
     "iopub.status.idle": "2022-07-17T17:22:30.918204Z",
     "shell.execute_reply": "2022-07-17T17:22:30.917559Z",
     "shell.execute_reply.started": "2022-07-17T17:19:57.105982Z"
    },
    "papermill": {
     "duration": 0.098819,
     "end_time": "2022-07-17T17:22:30.918346",
     "exception": false,
     "start_time": "2022-07-17T17:22:30.819527",
     "status": "completed"
    },
    "tags": []
   },
   "outputs": [
    {
     "name": "stderr",
     "output_type": "stream",
     "text": [
      "/opt/conda/lib/python3.7/site-packages/ipykernel_launcher.py:1: SettingWithCopyWarning: \n",
      "A value is trying to be set on a copy of a slice from a DataFrame.\n",
      "Try using .loc[row_indexer,col_indexer] = value instead\n",
      "\n",
      "See the caveats in the documentation: https://pandas.pydata.org/pandas-docs/stable/user_guide/indexing.html#returning-a-view-versus-a-copy\n",
      "  \"\"\"Entry point for launching an IPython kernel.\n"
     ]
    },
    {
     "data": {
      "text/html": [
       "<div>\n",
       "<style scoped>\n",
       "    .dataframe tbody tr th:only-of-type {\n",
       "        vertical-align: middle;\n",
       "    }\n",
       "\n",
       "    .dataframe tbody tr th {\n",
       "        vertical-align: top;\n",
       "    }\n",
       "\n",
       "    .dataframe thead th {\n",
       "        text-align: right;\n",
       "    }\n",
       "</style>\n",
       "<table border=\"1\" class=\"dataframe\">\n",
       "  <thead>\n",
       "    <tr style=\"text-align: right;\">\n",
       "      <th></th>\n",
       "      <th>bike_name</th>\n",
       "      <th>price</th>\n",
       "      <th>kms_driven</th>\n",
       "      <th>owner</th>\n",
       "      <th>age</th>\n",
       "      <th>Owner_Type</th>\n",
       "    </tr>\n",
       "  </thead>\n",
       "  <tbody>\n",
       "    <tr>\n",
       "      <th>0</th>\n",
       "      <td>TVS Star City Plus Dual Tone 110cc</td>\n",
       "      <td>35000</td>\n",
       "      <td>17654</td>\n",
       "      <td>First Owner</td>\n",
       "      <td>3</td>\n",
       "      <td>0</td>\n",
       "    </tr>\n",
       "    <tr>\n",
       "      <th>3</th>\n",
       "      <td>TVS Apache RTR 180cc</td>\n",
       "      <td>65000</td>\n",
       "      <td>16329</td>\n",
       "      <td>First Owner</td>\n",
       "      <td>4</td>\n",
       "      <td>0</td>\n",
       "    </tr>\n",
       "    <tr>\n",
       "      <th>4</th>\n",
       "      <td>Yamaha FZ S V 2.0 150cc-Ltd. Edition</td>\n",
       "      <td>80000</td>\n",
       "      <td>10000</td>\n",
       "      <td>First Owner</td>\n",
       "      <td>3</td>\n",
       "      <td>0</td>\n",
       "    </tr>\n",
       "    <tr>\n",
       "      <th>5</th>\n",
       "      <td>Yamaha FZs 150cc</td>\n",
       "      <td>53499</td>\n",
       "      <td>25000</td>\n",
       "      <td>First Owner</td>\n",
       "      <td>6</td>\n",
       "      <td>0</td>\n",
       "    </tr>\n",
       "    <tr>\n",
       "      <th>6</th>\n",
       "      <td>Honda CB Hornet 160R  ABS DLX</td>\n",
       "      <td>85000</td>\n",
       "      <td>8200</td>\n",
       "      <td>First Owner</td>\n",
       "      <td>3</td>\n",
       "      <td>0</td>\n",
       "    </tr>\n",
       "  </tbody>\n",
       "</table>\n",
       "</div>"
      ],
      "text/plain": [
       "                              bike_name  price  kms_driven        owner  age  \\\n",
       "0    TVS Star City Plus Dual Tone 110cc  35000       17654  First Owner    3   \n",
       "3                  TVS Apache RTR 180cc  65000       16329  First Owner    4   \n",
       "4  Yamaha FZ S V 2.0 150cc-Ltd. Edition  80000       10000  First Owner    3   \n",
       "5                      Yamaha FZs 150cc  53499       25000  First Owner    6   \n",
       "6         Honda CB Hornet 160R  ABS DLX  85000        8200  First Owner    3   \n",
       "\n",
       "   Owner_Type  \n",
       "0           0  \n",
       "3           0  \n",
       "4           0  \n",
       "5           0  \n",
       "6           0  "
      ]
     },
     "execution_count": 41,
     "metadata": {},
     "output_type": "execute_result"
    }
   ],
   "source": [
    "df7['Owner_Type']=le_owner.fit_transform(df7['owner'])\n",
    "df7.head(5)"
   ]
  },
  {
   "cell_type": "code",
   "execution_count": 42,
   "id": "protective-pitch",
   "metadata": {
    "execution": {
     "iopub.execute_input": "2022-07-17T17:22:31.072309Z",
     "iopub.status.busy": "2022-07-17T17:22:31.071537Z",
     "iopub.status.idle": "2022-07-17T17:22:31.075715Z",
     "shell.execute_reply": "2022-07-17T17:22:31.076320Z",
     "shell.execute_reply.started": "2022-07-17T17:19:57.591612Z"
    },
    "papermill": {
     "duration": 0.086435,
     "end_time": "2022-07-17T17:22:31.076492",
     "exception": false,
     "start_time": "2022-07-17T17:22:30.990057",
     "status": "completed"
    },
    "tags": []
   },
   "outputs": [
    {
     "data": {
      "text/plain": [
       "array(['First Owner', 'Second Owner', 'Third Owner',\n",
       "       'Fourth Owner Or More'], dtype=object)"
      ]
     },
     "execution_count": 42,
     "metadata": {},
     "output_type": "execute_result"
    }
   ],
   "source": [
    "df7['owner'].unique()"
   ]
  },
  {
   "cell_type": "code",
   "execution_count": 43,
   "id": "supreme-louis",
   "metadata": {
    "execution": {
     "iopub.execute_input": "2022-07-17T17:22:31.225712Z",
     "iopub.status.busy": "2022-07-17T17:22:31.224981Z",
     "iopub.status.idle": "2022-07-17T17:22:31.238662Z",
     "shell.execute_reply": "2022-07-17T17:22:31.239240Z",
     "shell.execute_reply.started": "2022-07-17T17:19:57.959544Z"
    },
    "papermill": {
     "duration": 0.089275,
     "end_time": "2022-07-17T17:22:31.239415",
     "exception": false,
     "start_time": "2022-07-17T17:22:31.150140",
     "status": "completed"
    },
    "tags": []
   },
   "outputs": [
    {
     "data": {
      "text/html": [
       "<div>\n",
       "<style scoped>\n",
       "    .dataframe tbody tr th:only-of-type {\n",
       "        vertical-align: middle;\n",
       "    }\n",
       "\n",
       "    .dataframe tbody tr th {\n",
       "        vertical-align: top;\n",
       "    }\n",
       "\n",
       "    .dataframe thead th {\n",
       "        text-align: right;\n",
       "    }\n",
       "</style>\n",
       "<table border=\"1\" class=\"dataframe\">\n",
       "  <thead>\n",
       "    <tr style=\"text-align: right;\">\n",
       "      <th></th>\n",
       "      <th>bike_name</th>\n",
       "      <th>price</th>\n",
       "      <th>kms_driven</th>\n",
       "      <th>age</th>\n",
       "      <th>Owner_Type</th>\n",
       "    </tr>\n",
       "  </thead>\n",
       "  <tbody>\n",
       "    <tr>\n",
       "      <th>0</th>\n",
       "      <td>TVS Star City Plus Dual Tone 110cc</td>\n",
       "      <td>35000</td>\n",
       "      <td>17654</td>\n",
       "      <td>3</td>\n",
       "      <td>0</td>\n",
       "    </tr>\n",
       "    <tr>\n",
       "      <th>3</th>\n",
       "      <td>TVS Apache RTR 180cc</td>\n",
       "      <td>65000</td>\n",
       "      <td>16329</td>\n",
       "      <td>4</td>\n",
       "      <td>0</td>\n",
       "    </tr>\n",
       "    <tr>\n",
       "      <th>4</th>\n",
       "      <td>Yamaha FZ S V 2.0 150cc-Ltd. Edition</td>\n",
       "      <td>80000</td>\n",
       "      <td>10000</td>\n",
       "      <td>3</td>\n",
       "      <td>0</td>\n",
       "    </tr>\n",
       "    <tr>\n",
       "      <th>5</th>\n",
       "      <td>Yamaha FZs 150cc</td>\n",
       "      <td>53499</td>\n",
       "      <td>25000</td>\n",
       "      <td>6</td>\n",
       "      <td>0</td>\n",
       "    </tr>\n",
       "    <tr>\n",
       "      <th>6</th>\n",
       "      <td>Honda CB Hornet 160R  ABS DLX</td>\n",
       "      <td>85000</td>\n",
       "      <td>8200</td>\n",
       "      <td>3</td>\n",
       "      <td>0</td>\n",
       "    </tr>\n",
       "  </tbody>\n",
       "</table>\n",
       "</div>"
      ],
      "text/plain": [
       "                              bike_name  price  kms_driven  age  Owner_Type\n",
       "0    TVS Star City Plus Dual Tone 110cc  35000       17654    3           0\n",
       "3                  TVS Apache RTR 180cc  65000       16329    4           0\n",
       "4  Yamaha FZ S V 2.0 150cc-Ltd. Edition  80000       10000    3           0\n",
       "5                      Yamaha FZs 150cc  53499       25000    6           0\n",
       "6         Honda CB Hornet 160R  ABS DLX  85000        8200    3           0"
      ]
     },
     "execution_count": 43,
     "metadata": {},
     "output_type": "execute_result"
    }
   ],
   "source": [
    "df8=df7.drop(['owner'],axis=1)\n",
    "df8.head()"
   ]
  },
  {
   "cell_type": "code",
   "execution_count": 44,
   "id": "desirable-proposition",
   "metadata": {
    "execution": {
     "iopub.execute_input": "2022-07-17T17:22:31.388369Z",
     "iopub.status.busy": "2022-07-17T17:22:31.387395Z",
     "iopub.status.idle": "2022-07-17T17:22:31.394541Z",
     "shell.execute_reply": "2022-07-17T17:22:31.393877Z",
     "shell.execute_reply.started": "2022-07-17T17:19:58.353742Z"
    },
    "papermill": {
     "duration": 0.083334,
     "end_time": "2022-07-17T17:22:31.394682",
     "exception": false,
     "start_time": "2022-07-17T17:22:31.311348",
     "status": "completed"
    },
    "tags": []
   },
   "outputs": [
    {
     "data": {
      "text/plain": [
       "array([0, 2, 3, 1])"
      ]
     },
     "execution_count": 44,
     "metadata": {},
     "output_type": "execute_result"
    }
   ],
   "source": [
    "df8['Owner_Type'].unique()"
   ]
  },
  {
   "cell_type": "code",
   "execution_count": 45,
   "id": "lesser-friendship",
   "metadata": {
    "execution": {
     "iopub.execute_input": "2022-07-17T17:22:31.546118Z",
     "iopub.status.busy": "2022-07-17T17:22:31.545183Z",
     "iopub.status.idle": "2022-07-17T17:22:31.574442Z",
     "shell.execute_reply": "2022-07-17T17:22:31.574921Z",
     "shell.execute_reply.started": "2022-07-17T17:19:58.699044Z"
    },
    "papermill": {
     "duration": 0.108025,
     "end_time": "2022-07-17T17:22:31.575087",
     "exception": false,
     "start_time": "2022-07-17T17:22:31.467062",
     "status": "completed"
    },
    "tags": []
   },
   "outputs": [
    {
     "data": {
      "text/html": [
       "<div>\n",
       "<style scoped>\n",
       "    .dataframe tbody tr th:only-of-type {\n",
       "        vertical-align: middle;\n",
       "    }\n",
       "\n",
       "    .dataframe tbody tr th {\n",
       "        vertical-align: top;\n",
       "    }\n",
       "\n",
       "    .dataframe thead th {\n",
       "        text-align: right;\n",
       "    }\n",
       "</style>\n",
       "<table border=\"1\" class=\"dataframe\">\n",
       "  <thead>\n",
       "    <tr style=\"text-align: right;\">\n",
       "      <th></th>\n",
       "      <th>Bajaj  Pulsar 180cc</th>\n",
       "      <th>Bajaj Avenger 150cc</th>\n",
       "      <th>Bajaj Avenger 180cc</th>\n",
       "      <th>Bajaj Avenger 200cc</th>\n",
       "      <th>Bajaj Avenger 220cc</th>\n",
       "      <th>Bajaj Avenger Cruise 220</th>\n",
       "      <th>Bajaj Avenger Cruise 220 ABS</th>\n",
       "      <th>Bajaj Avenger Street 150</th>\n",
       "      <th>Bajaj Avenger Street 160 ABS</th>\n",
       "      <th>Bajaj Avenger Street 180</th>\n",
       "      <th>...</th>\n",
       "      <th>Yamaha SZX 150cc</th>\n",
       "      <th>Yamaha Saluto 125cc</th>\n",
       "      <th>Yamaha Saluto 125cc Disc Special Edition</th>\n",
       "      <th>Yamaha Saluto 125cc-Special Edition</th>\n",
       "      <th>Yamaha Saluto RX 110cc</th>\n",
       "      <th>Yamaha YBR 110cc</th>\n",
       "      <th>Yamaha YZF-R15 150cc</th>\n",
       "      <th>Yamaha YZF-R15 2.0 150cc</th>\n",
       "      <th>Yamaha YZF-R15 S 150cc</th>\n",
       "      <th>Yamaha YZF-R15 V3 150cc</th>\n",
       "    </tr>\n",
       "  </thead>\n",
       "  <tbody>\n",
       "    <tr>\n",
       "      <th>0</th>\n",
       "      <td>0</td>\n",
       "      <td>0</td>\n",
       "      <td>0</td>\n",
       "      <td>0</td>\n",
       "      <td>0</td>\n",
       "      <td>0</td>\n",
       "      <td>0</td>\n",
       "      <td>0</td>\n",
       "      <td>0</td>\n",
       "      <td>0</td>\n",
       "      <td>...</td>\n",
       "      <td>0</td>\n",
       "      <td>0</td>\n",
       "      <td>0</td>\n",
       "      <td>0</td>\n",
       "      <td>0</td>\n",
       "      <td>0</td>\n",
       "      <td>0</td>\n",
       "      <td>0</td>\n",
       "      <td>0</td>\n",
       "      <td>0</td>\n",
       "    </tr>\n",
       "    <tr>\n",
       "      <th>3</th>\n",
       "      <td>0</td>\n",
       "      <td>0</td>\n",
       "      <td>0</td>\n",
       "      <td>0</td>\n",
       "      <td>0</td>\n",
       "      <td>0</td>\n",
       "      <td>0</td>\n",
       "      <td>0</td>\n",
       "      <td>0</td>\n",
       "      <td>0</td>\n",
       "      <td>...</td>\n",
       "      <td>0</td>\n",
       "      <td>0</td>\n",
       "      <td>0</td>\n",
       "      <td>0</td>\n",
       "      <td>0</td>\n",
       "      <td>0</td>\n",
       "      <td>0</td>\n",
       "      <td>0</td>\n",
       "      <td>0</td>\n",
       "      <td>0</td>\n",
       "    </tr>\n",
       "    <tr>\n",
       "      <th>4</th>\n",
       "      <td>0</td>\n",
       "      <td>0</td>\n",
       "      <td>0</td>\n",
       "      <td>0</td>\n",
       "      <td>0</td>\n",
       "      <td>0</td>\n",
       "      <td>0</td>\n",
       "      <td>0</td>\n",
       "      <td>0</td>\n",
       "      <td>0</td>\n",
       "      <td>...</td>\n",
       "      <td>0</td>\n",
       "      <td>0</td>\n",
       "      <td>0</td>\n",
       "      <td>0</td>\n",
       "      <td>0</td>\n",
       "      <td>0</td>\n",
       "      <td>0</td>\n",
       "      <td>0</td>\n",
       "      <td>0</td>\n",
       "      <td>0</td>\n",
       "    </tr>\n",
       "    <tr>\n",
       "      <th>5</th>\n",
       "      <td>0</td>\n",
       "      <td>0</td>\n",
       "      <td>0</td>\n",
       "      <td>0</td>\n",
       "      <td>0</td>\n",
       "      <td>0</td>\n",
       "      <td>0</td>\n",
       "      <td>0</td>\n",
       "      <td>0</td>\n",
       "      <td>0</td>\n",
       "      <td>...</td>\n",
       "      <td>0</td>\n",
       "      <td>0</td>\n",
       "      <td>0</td>\n",
       "      <td>0</td>\n",
       "      <td>0</td>\n",
       "      <td>0</td>\n",
       "      <td>0</td>\n",
       "      <td>0</td>\n",
       "      <td>0</td>\n",
       "      <td>0</td>\n",
       "    </tr>\n",
       "    <tr>\n",
       "      <th>6</th>\n",
       "      <td>0</td>\n",
       "      <td>0</td>\n",
       "      <td>0</td>\n",
       "      <td>0</td>\n",
       "      <td>0</td>\n",
       "      <td>0</td>\n",
       "      <td>0</td>\n",
       "      <td>0</td>\n",
       "      <td>0</td>\n",
       "      <td>0</td>\n",
       "      <td>...</td>\n",
       "      <td>0</td>\n",
       "      <td>0</td>\n",
       "      <td>0</td>\n",
       "      <td>0</td>\n",
       "      <td>0</td>\n",
       "      <td>0</td>\n",
       "      <td>0</td>\n",
       "      <td>0</td>\n",
       "      <td>0</td>\n",
       "      <td>0</td>\n",
       "    </tr>\n",
       "    <tr>\n",
       "      <th>7</th>\n",
       "      <td>0</td>\n",
       "      <td>0</td>\n",
       "      <td>0</td>\n",
       "      <td>0</td>\n",
       "      <td>0</td>\n",
       "      <td>0</td>\n",
       "      <td>0</td>\n",
       "      <td>0</td>\n",
       "      <td>0</td>\n",
       "      <td>0</td>\n",
       "      <td>...</td>\n",
       "      <td>0</td>\n",
       "      <td>0</td>\n",
       "      <td>0</td>\n",
       "      <td>0</td>\n",
       "      <td>0</td>\n",
       "      <td>0</td>\n",
       "      <td>0</td>\n",
       "      <td>0</td>\n",
       "      <td>0</td>\n",
       "      <td>0</td>\n",
       "    </tr>\n",
       "    <tr>\n",
       "      <th>9</th>\n",
       "      <td>0</td>\n",
       "      <td>0</td>\n",
       "      <td>0</td>\n",
       "      <td>0</td>\n",
       "      <td>0</td>\n",
       "      <td>0</td>\n",
       "      <td>0</td>\n",
       "      <td>0</td>\n",
       "      <td>0</td>\n",
       "      <td>0</td>\n",
       "      <td>...</td>\n",
       "      <td>0</td>\n",
       "      <td>0</td>\n",
       "      <td>0</td>\n",
       "      <td>0</td>\n",
       "      <td>0</td>\n",
       "      <td>0</td>\n",
       "      <td>0</td>\n",
       "      <td>0</td>\n",
       "      <td>0</td>\n",
       "      <td>0</td>\n",
       "    </tr>\n",
       "    <tr>\n",
       "      <th>10</th>\n",
       "      <td>0</td>\n",
       "      <td>0</td>\n",
       "      <td>0</td>\n",
       "      <td>0</td>\n",
       "      <td>0</td>\n",
       "      <td>0</td>\n",
       "      <td>0</td>\n",
       "      <td>0</td>\n",
       "      <td>0</td>\n",
       "      <td>0</td>\n",
       "      <td>...</td>\n",
       "      <td>0</td>\n",
       "      <td>0</td>\n",
       "      <td>0</td>\n",
       "      <td>0</td>\n",
       "      <td>0</td>\n",
       "      <td>0</td>\n",
       "      <td>0</td>\n",
       "      <td>1</td>\n",
       "      <td>0</td>\n",
       "      <td>0</td>\n",
       "    </tr>\n",
       "    <tr>\n",
       "      <th>11</th>\n",
       "      <td>0</td>\n",
       "      <td>0</td>\n",
       "      <td>0</td>\n",
       "      <td>0</td>\n",
       "      <td>0</td>\n",
       "      <td>0</td>\n",
       "      <td>0</td>\n",
       "      <td>0</td>\n",
       "      <td>0</td>\n",
       "      <td>0</td>\n",
       "      <td>...</td>\n",
       "      <td>0</td>\n",
       "      <td>0</td>\n",
       "      <td>0</td>\n",
       "      <td>0</td>\n",
       "      <td>0</td>\n",
       "      <td>0</td>\n",
       "      <td>0</td>\n",
       "      <td>0</td>\n",
       "      <td>0</td>\n",
       "      <td>0</td>\n",
       "    </tr>\n",
       "    <tr>\n",
       "      <th>12</th>\n",
       "      <td>0</td>\n",
       "      <td>0</td>\n",
       "      <td>0</td>\n",
       "      <td>0</td>\n",
       "      <td>0</td>\n",
       "      <td>0</td>\n",
       "      <td>0</td>\n",
       "      <td>0</td>\n",
       "      <td>0</td>\n",
       "      <td>0</td>\n",
       "      <td>...</td>\n",
       "      <td>0</td>\n",
       "      <td>0</td>\n",
       "      <td>0</td>\n",
       "      <td>0</td>\n",
       "      <td>0</td>\n",
       "      <td>0</td>\n",
       "      <td>0</td>\n",
       "      <td>0</td>\n",
       "      <td>0</td>\n",
       "      <td>0</td>\n",
       "    </tr>\n",
       "  </tbody>\n",
       "</table>\n",
       "<p>10 rows × 333 columns</p>\n",
       "</div>"
      ],
      "text/plain": [
       "    Bajaj  Pulsar 180cc  Bajaj Avenger 150cc  Bajaj Avenger 180cc  \\\n",
       "0                     0                    0                    0   \n",
       "3                     0                    0                    0   \n",
       "4                     0                    0                    0   \n",
       "5                     0                    0                    0   \n",
       "6                     0                    0                    0   \n",
       "7                     0                    0                    0   \n",
       "9                     0                    0                    0   \n",
       "10                    0                    0                    0   \n",
       "11                    0                    0                    0   \n",
       "12                    0                    0                    0   \n",
       "\n",
       "    Bajaj Avenger 200cc  Bajaj Avenger 220cc  Bajaj Avenger Cruise 220  \\\n",
       "0                     0                    0                         0   \n",
       "3                     0                    0                         0   \n",
       "4                     0                    0                         0   \n",
       "5                     0                    0                         0   \n",
       "6                     0                    0                         0   \n",
       "7                     0                    0                         0   \n",
       "9                     0                    0                         0   \n",
       "10                    0                    0                         0   \n",
       "11                    0                    0                         0   \n",
       "12                    0                    0                         0   \n",
       "\n",
       "    Bajaj Avenger Cruise 220 ABS  Bajaj Avenger Street 150  \\\n",
       "0                              0                         0   \n",
       "3                              0                         0   \n",
       "4                              0                         0   \n",
       "5                              0                         0   \n",
       "6                              0                         0   \n",
       "7                              0                         0   \n",
       "9                              0                         0   \n",
       "10                             0                         0   \n",
       "11                             0                         0   \n",
       "12                             0                         0   \n",
       "\n",
       "    Bajaj Avenger Street 160 ABS  Bajaj Avenger Street 180  ...  \\\n",
       "0                              0                         0  ...   \n",
       "3                              0                         0  ...   \n",
       "4                              0                         0  ...   \n",
       "5                              0                         0  ...   \n",
       "6                              0                         0  ...   \n",
       "7                              0                         0  ...   \n",
       "9                              0                         0  ...   \n",
       "10                             0                         0  ...   \n",
       "11                             0                         0  ...   \n",
       "12                             0                         0  ...   \n",
       "\n",
       "    Yamaha SZX 150cc  Yamaha Saluto 125cc  \\\n",
       "0                  0                    0   \n",
       "3                  0                    0   \n",
       "4                  0                    0   \n",
       "5                  0                    0   \n",
       "6                  0                    0   \n",
       "7                  0                    0   \n",
       "9                  0                    0   \n",
       "10                 0                    0   \n",
       "11                 0                    0   \n",
       "12                 0                    0   \n",
       "\n",
       "    Yamaha Saluto 125cc Disc Special Edition  \\\n",
       "0                                          0   \n",
       "3                                          0   \n",
       "4                                          0   \n",
       "5                                          0   \n",
       "6                                          0   \n",
       "7                                          0   \n",
       "9                                          0   \n",
       "10                                         0   \n",
       "11                                         0   \n",
       "12                                         0   \n",
       "\n",
       "    Yamaha Saluto 125cc-Special Edition  Yamaha Saluto RX 110cc  \\\n",
       "0                                     0                       0   \n",
       "3                                     0                       0   \n",
       "4                                     0                       0   \n",
       "5                                     0                       0   \n",
       "6                                     0                       0   \n",
       "7                                     0                       0   \n",
       "9                                     0                       0   \n",
       "10                                    0                       0   \n",
       "11                                    0                       0   \n",
       "12                                    0                       0   \n",
       "\n",
       "    Yamaha YBR 110cc  Yamaha YZF-R15 150cc  Yamaha YZF-R15 2.0 150cc  \\\n",
       "0                  0                     0                         0   \n",
       "3                  0                     0                         0   \n",
       "4                  0                     0                         0   \n",
       "5                  0                     0                         0   \n",
       "6                  0                     0                         0   \n",
       "7                  0                     0                         0   \n",
       "9                  0                     0                         0   \n",
       "10                 0                     0                         1   \n",
       "11                 0                     0                         0   \n",
       "12                 0                     0                         0   \n",
       "\n",
       "    Yamaha YZF-R15 S 150cc  Yamaha YZF-R15 V3 150cc  \n",
       "0                        0                        0  \n",
       "3                        0                        0  \n",
       "4                        0                        0  \n",
       "5                        0                        0  \n",
       "6                        0                        0  \n",
       "7                        0                        0  \n",
       "9                        0                        0  \n",
       "10                       0                        0  \n",
       "11                       0                        0  \n",
       "12                       0                        0  \n",
       "\n",
       "[10 rows x 333 columns]"
      ]
     },
     "execution_count": 45,
     "metadata": {},
     "output_type": "execute_result"
    }
   ],
   "source": [
    "dummies=pd.get_dummies(df8['bike_name'])\n",
    "dummies.head(10)"
   ]
  },
  {
   "cell_type": "code",
   "execution_count": 46,
   "id": "strategic-lightweight",
   "metadata": {
    "execution": {
     "iopub.execute_input": "2022-07-17T17:22:31.731613Z",
     "iopub.status.busy": "2022-07-17T17:22:31.730962Z",
     "iopub.status.idle": "2022-07-17T17:22:31.821214Z",
     "shell.execute_reply": "2022-07-17T17:22:31.820551Z",
     "shell.execute_reply.started": "2022-07-17T17:19:59.134851Z"
    },
    "papermill": {
     "duration": 0.171139,
     "end_time": "2022-07-17T17:22:31.821358",
     "exception": false,
     "start_time": "2022-07-17T17:22:31.650219",
     "status": "completed"
    },
    "tags": []
   },
   "outputs": [
    {
     "data": {
      "text/html": [
       "<div>\n",
       "<style scoped>\n",
       "    .dataframe tbody tr th:only-of-type {\n",
       "        vertical-align: middle;\n",
       "    }\n",
       "\n",
       "    .dataframe tbody tr th {\n",
       "        vertical-align: top;\n",
       "    }\n",
       "\n",
       "    .dataframe thead th {\n",
       "        text-align: right;\n",
       "    }\n",
       "</style>\n",
       "<table border=\"1\" class=\"dataframe\">\n",
       "  <thead>\n",
       "    <tr style=\"text-align: right;\">\n",
       "      <th></th>\n",
       "      <th>Bajaj  Pulsar 180cc</th>\n",
       "      <th>Bajaj Avenger 150cc</th>\n",
       "      <th>Bajaj Avenger 180cc</th>\n",
       "      <th>Bajaj Avenger 200cc</th>\n",
       "      <th>Bajaj Avenger 220cc</th>\n",
       "      <th>Bajaj Avenger Cruise 220</th>\n",
       "      <th>Bajaj Avenger Cruise 220 ABS</th>\n",
       "      <th>Bajaj Avenger Street 150</th>\n",
       "      <th>Bajaj Avenger Street 160 ABS</th>\n",
       "      <th>Bajaj Avenger Street 180</th>\n",
       "      <th>...</th>\n",
       "      <th>Yamaha SZR 150cc</th>\n",
       "      <th>Yamaha SZX 150cc</th>\n",
       "      <th>Yamaha Saluto 125cc</th>\n",
       "      <th>Yamaha Saluto 125cc Disc Special Edition</th>\n",
       "      <th>Yamaha Saluto 125cc-Special Edition</th>\n",
       "      <th>Yamaha Saluto RX 110cc</th>\n",
       "      <th>Yamaha YBR 110cc</th>\n",
       "      <th>Yamaha YZF-R15 150cc</th>\n",
       "      <th>Yamaha YZF-R15 2.0 150cc</th>\n",
       "      <th>Yamaha YZF-R15 S 150cc</th>\n",
       "    </tr>\n",
       "  </thead>\n",
       "  <tbody>\n",
       "    <tr>\n",
       "      <th>0</th>\n",
       "      <td>0</td>\n",
       "      <td>0</td>\n",
       "      <td>0</td>\n",
       "      <td>0</td>\n",
       "      <td>0</td>\n",
       "      <td>0</td>\n",
       "      <td>0</td>\n",
       "      <td>0</td>\n",
       "      <td>0</td>\n",
       "      <td>0</td>\n",
       "      <td>...</td>\n",
       "      <td>0</td>\n",
       "      <td>0</td>\n",
       "      <td>0</td>\n",
       "      <td>0</td>\n",
       "      <td>0</td>\n",
       "      <td>0</td>\n",
       "      <td>0</td>\n",
       "      <td>0</td>\n",
       "      <td>0</td>\n",
       "      <td>0</td>\n",
       "    </tr>\n",
       "    <tr>\n",
       "      <th>3</th>\n",
       "      <td>0</td>\n",
       "      <td>0</td>\n",
       "      <td>0</td>\n",
       "      <td>0</td>\n",
       "      <td>0</td>\n",
       "      <td>0</td>\n",
       "      <td>0</td>\n",
       "      <td>0</td>\n",
       "      <td>0</td>\n",
       "      <td>0</td>\n",
       "      <td>...</td>\n",
       "      <td>0</td>\n",
       "      <td>0</td>\n",
       "      <td>0</td>\n",
       "      <td>0</td>\n",
       "      <td>0</td>\n",
       "      <td>0</td>\n",
       "      <td>0</td>\n",
       "      <td>0</td>\n",
       "      <td>0</td>\n",
       "      <td>0</td>\n",
       "    </tr>\n",
       "    <tr>\n",
       "      <th>4</th>\n",
       "      <td>0</td>\n",
       "      <td>0</td>\n",
       "      <td>0</td>\n",
       "      <td>0</td>\n",
       "      <td>0</td>\n",
       "      <td>0</td>\n",
       "      <td>0</td>\n",
       "      <td>0</td>\n",
       "      <td>0</td>\n",
       "      <td>0</td>\n",
       "      <td>...</td>\n",
       "      <td>0</td>\n",
       "      <td>0</td>\n",
       "      <td>0</td>\n",
       "      <td>0</td>\n",
       "      <td>0</td>\n",
       "      <td>0</td>\n",
       "      <td>0</td>\n",
       "      <td>0</td>\n",
       "      <td>0</td>\n",
       "      <td>0</td>\n",
       "    </tr>\n",
       "    <tr>\n",
       "      <th>5</th>\n",
       "      <td>0</td>\n",
       "      <td>0</td>\n",
       "      <td>0</td>\n",
       "      <td>0</td>\n",
       "      <td>0</td>\n",
       "      <td>0</td>\n",
       "      <td>0</td>\n",
       "      <td>0</td>\n",
       "      <td>0</td>\n",
       "      <td>0</td>\n",
       "      <td>...</td>\n",
       "      <td>0</td>\n",
       "      <td>0</td>\n",
       "      <td>0</td>\n",
       "      <td>0</td>\n",
       "      <td>0</td>\n",
       "      <td>0</td>\n",
       "      <td>0</td>\n",
       "      <td>0</td>\n",
       "      <td>0</td>\n",
       "      <td>0</td>\n",
       "    </tr>\n",
       "    <tr>\n",
       "      <th>6</th>\n",
       "      <td>0</td>\n",
       "      <td>0</td>\n",
       "      <td>0</td>\n",
       "      <td>0</td>\n",
       "      <td>0</td>\n",
       "      <td>0</td>\n",
       "      <td>0</td>\n",
       "      <td>0</td>\n",
       "      <td>0</td>\n",
       "      <td>0</td>\n",
       "      <td>...</td>\n",
       "      <td>0</td>\n",
       "      <td>0</td>\n",
       "      <td>0</td>\n",
       "      <td>0</td>\n",
       "      <td>0</td>\n",
       "      <td>0</td>\n",
       "      <td>0</td>\n",
       "      <td>0</td>\n",
       "      <td>0</td>\n",
       "      <td>0</td>\n",
       "    </tr>\n",
       "    <tr>\n",
       "      <th>...</th>\n",
       "      <td>...</td>\n",
       "      <td>...</td>\n",
       "      <td>...</td>\n",
       "      <td>...</td>\n",
       "      <td>...</td>\n",
       "      <td>...</td>\n",
       "      <td>...</td>\n",
       "      <td>...</td>\n",
       "      <td>...</td>\n",
       "      <td>...</td>\n",
       "      <td>...</td>\n",
       "      <td>...</td>\n",
       "      <td>...</td>\n",
       "      <td>...</td>\n",
       "      <td>...</td>\n",
       "      <td>...</td>\n",
       "      <td>...</td>\n",
       "      <td>...</td>\n",
       "      <td>...</td>\n",
       "      <td>...</td>\n",
       "      <td>...</td>\n",
       "    </tr>\n",
       "    <tr>\n",
       "      <th>32643</th>\n",
       "      <td>0</td>\n",
       "      <td>0</td>\n",
       "      <td>0</td>\n",
       "      <td>0</td>\n",
       "      <td>0</td>\n",
       "      <td>0</td>\n",
       "      <td>0</td>\n",
       "      <td>0</td>\n",
       "      <td>0</td>\n",
       "      <td>0</td>\n",
       "      <td>...</td>\n",
       "      <td>0</td>\n",
       "      <td>0</td>\n",
       "      <td>0</td>\n",
       "      <td>0</td>\n",
       "      <td>0</td>\n",
       "      <td>0</td>\n",
       "      <td>0</td>\n",
       "      <td>0</td>\n",
       "      <td>0</td>\n",
       "      <td>0</td>\n",
       "    </tr>\n",
       "    <tr>\n",
       "      <th>32644</th>\n",
       "      <td>0</td>\n",
       "      <td>0</td>\n",
       "      <td>0</td>\n",
       "      <td>0</td>\n",
       "      <td>0</td>\n",
       "      <td>0</td>\n",
       "      <td>0</td>\n",
       "      <td>0</td>\n",
       "      <td>0</td>\n",
       "      <td>0</td>\n",
       "      <td>...</td>\n",
       "      <td>0</td>\n",
       "      <td>0</td>\n",
       "      <td>0</td>\n",
       "      <td>0</td>\n",
       "      <td>0</td>\n",
       "      <td>0</td>\n",
       "      <td>0</td>\n",
       "      <td>0</td>\n",
       "      <td>0</td>\n",
       "      <td>0</td>\n",
       "    </tr>\n",
       "    <tr>\n",
       "      <th>32645</th>\n",
       "      <td>0</td>\n",
       "      <td>0</td>\n",
       "      <td>0</td>\n",
       "      <td>0</td>\n",
       "      <td>0</td>\n",
       "      <td>0</td>\n",
       "      <td>0</td>\n",
       "      <td>0</td>\n",
       "      <td>0</td>\n",
       "      <td>0</td>\n",
       "      <td>...</td>\n",
       "      <td>0</td>\n",
       "      <td>0</td>\n",
       "      <td>0</td>\n",
       "      <td>0</td>\n",
       "      <td>0</td>\n",
       "      <td>0</td>\n",
       "      <td>0</td>\n",
       "      <td>0</td>\n",
       "      <td>0</td>\n",
       "      <td>0</td>\n",
       "    </tr>\n",
       "    <tr>\n",
       "      <th>32646</th>\n",
       "      <td>0</td>\n",
       "      <td>0</td>\n",
       "      <td>0</td>\n",
       "      <td>0</td>\n",
       "      <td>0</td>\n",
       "      <td>0</td>\n",
       "      <td>0</td>\n",
       "      <td>0</td>\n",
       "      <td>0</td>\n",
       "      <td>0</td>\n",
       "      <td>...</td>\n",
       "      <td>0</td>\n",
       "      <td>0</td>\n",
       "      <td>0</td>\n",
       "      <td>0</td>\n",
       "      <td>0</td>\n",
       "      <td>0</td>\n",
       "      <td>0</td>\n",
       "      <td>0</td>\n",
       "      <td>0</td>\n",
       "      <td>0</td>\n",
       "    </tr>\n",
       "    <tr>\n",
       "      <th>32647</th>\n",
       "      <td>0</td>\n",
       "      <td>0</td>\n",
       "      <td>0</td>\n",
       "      <td>0</td>\n",
       "      <td>0</td>\n",
       "      <td>0</td>\n",
       "      <td>0</td>\n",
       "      <td>0</td>\n",
       "      <td>0</td>\n",
       "      <td>0</td>\n",
       "      <td>...</td>\n",
       "      <td>0</td>\n",
       "      <td>0</td>\n",
       "      <td>0</td>\n",
       "      <td>0</td>\n",
       "      <td>0</td>\n",
       "      <td>0</td>\n",
       "      <td>0</td>\n",
       "      <td>0</td>\n",
       "      <td>0</td>\n",
       "      <td>0</td>\n",
       "    </tr>\n",
       "  </tbody>\n",
       "</table>\n",
       "<p>27412 rows × 332 columns</p>\n",
       "</div>"
      ],
      "text/plain": [
       "       Bajaj  Pulsar 180cc  Bajaj Avenger 150cc  Bajaj Avenger 180cc  \\\n",
       "0                        0                    0                    0   \n",
       "3                        0                    0                    0   \n",
       "4                        0                    0                    0   \n",
       "5                        0                    0                    0   \n",
       "6                        0                    0                    0   \n",
       "...                    ...                  ...                  ...   \n",
       "32643                    0                    0                    0   \n",
       "32644                    0                    0                    0   \n",
       "32645                    0                    0                    0   \n",
       "32646                    0                    0                    0   \n",
       "32647                    0                    0                    0   \n",
       "\n",
       "       Bajaj Avenger 200cc  Bajaj Avenger 220cc  Bajaj Avenger Cruise 220  \\\n",
       "0                        0                    0                         0   \n",
       "3                        0                    0                         0   \n",
       "4                        0                    0                         0   \n",
       "5                        0                    0                         0   \n",
       "6                        0                    0                         0   \n",
       "...                    ...                  ...                       ...   \n",
       "32643                    0                    0                         0   \n",
       "32644                    0                    0                         0   \n",
       "32645                    0                    0                         0   \n",
       "32646                    0                    0                         0   \n",
       "32647                    0                    0                         0   \n",
       "\n",
       "       Bajaj Avenger Cruise 220 ABS  Bajaj Avenger Street 150  \\\n",
       "0                                 0                         0   \n",
       "3                                 0                         0   \n",
       "4                                 0                         0   \n",
       "5                                 0                         0   \n",
       "6                                 0                         0   \n",
       "...                             ...                       ...   \n",
       "32643                             0                         0   \n",
       "32644                             0                         0   \n",
       "32645                             0                         0   \n",
       "32646                             0                         0   \n",
       "32647                             0                         0   \n",
       "\n",
       "       Bajaj Avenger Street 160 ABS  Bajaj Avenger Street 180  ...  \\\n",
       "0                                 0                         0  ...   \n",
       "3                                 0                         0  ...   \n",
       "4                                 0                         0  ...   \n",
       "5                                 0                         0  ...   \n",
       "6                                 0                         0  ...   \n",
       "...                             ...                       ...  ...   \n",
       "32643                             0                         0  ...   \n",
       "32644                             0                         0  ...   \n",
       "32645                             0                         0  ...   \n",
       "32646                             0                         0  ...   \n",
       "32647                             0                         0  ...   \n",
       "\n",
       "       Yamaha SZR 150cc  Yamaha SZX 150cc  Yamaha Saluto 125cc  \\\n",
       "0                     0                 0                    0   \n",
       "3                     0                 0                    0   \n",
       "4                     0                 0                    0   \n",
       "5                     0                 0                    0   \n",
       "6                     0                 0                    0   \n",
       "...                 ...               ...                  ...   \n",
       "32643                 0                 0                    0   \n",
       "32644                 0                 0                    0   \n",
       "32645                 0                 0                    0   \n",
       "32646                 0                 0                    0   \n",
       "32647                 0                 0                    0   \n",
       "\n",
       "       Yamaha Saluto 125cc Disc Special Edition  \\\n",
       "0                                             0   \n",
       "3                                             0   \n",
       "4                                             0   \n",
       "5                                             0   \n",
       "6                                             0   \n",
       "...                                         ...   \n",
       "32643                                         0   \n",
       "32644                                         0   \n",
       "32645                                         0   \n",
       "32646                                         0   \n",
       "32647                                         0   \n",
       "\n",
       "       Yamaha Saluto 125cc-Special Edition  Yamaha Saluto RX 110cc  \\\n",
       "0                                        0                       0   \n",
       "3                                        0                       0   \n",
       "4                                        0                       0   \n",
       "5                                        0                       0   \n",
       "6                                        0                       0   \n",
       "...                                    ...                     ...   \n",
       "32643                                    0                       0   \n",
       "32644                                    0                       0   \n",
       "32645                                    0                       0   \n",
       "32646                                    0                       0   \n",
       "32647                                    0                       0   \n",
       "\n",
       "       Yamaha YBR 110cc  Yamaha YZF-R15 150cc  Yamaha YZF-R15 2.0 150cc  \\\n",
       "0                     0                     0                         0   \n",
       "3                     0                     0                         0   \n",
       "4                     0                     0                         0   \n",
       "5                     0                     0                         0   \n",
       "6                     0                     0                         0   \n",
       "...                 ...                   ...                       ...   \n",
       "32643                 0                     0                         0   \n",
       "32644                 0                     0                         0   \n",
       "32645                 0                     0                         0   \n",
       "32646                 0                     0                         0   \n",
       "32647                 0                     0                         0   \n",
       "\n",
       "       Yamaha YZF-R15 S 150cc  \n",
       "0                           0  \n",
       "3                           0  \n",
       "4                           0  \n",
       "5                           0  \n",
       "6                           0  \n",
       "...                       ...  \n",
       "32643                       0  \n",
       "32644                       0  \n",
       "32645                       0  \n",
       "32646                       0  \n",
       "32647                       0  \n",
       "\n",
       "[27412 rows x 332 columns]"
      ]
     },
     "execution_count": 46,
     "metadata": {},
     "output_type": "execute_result"
    }
   ],
   "source": [
    "dummies1=dummies.drop(['Yamaha YZF-R15 V3 150cc'],axis=1)\n",
    "dummies1"
   ]
  },
  {
   "cell_type": "code",
   "execution_count": 47,
   "id": "convinced-joshua",
   "metadata": {
    "execution": {
     "iopub.execute_input": "2022-07-17T17:22:31.975521Z",
     "iopub.status.busy": "2022-07-17T17:22:31.974546Z",
     "iopub.status.idle": "2022-07-17T17:22:32.035805Z",
     "shell.execute_reply": "2022-07-17T17:22:32.035143Z",
     "shell.execute_reply.started": "2022-07-17T17:19:59.431584Z"
    },
    "papermill": {
     "duration": 0.139923,
     "end_time": "2022-07-17T17:22:32.035939",
     "exception": false,
     "start_time": "2022-07-17T17:22:31.896016",
     "status": "completed"
    },
    "tags": []
   },
   "outputs": [
    {
     "data": {
      "text/html": [
       "<div>\n",
       "<style scoped>\n",
       "    .dataframe tbody tr th:only-of-type {\n",
       "        vertical-align: middle;\n",
       "    }\n",
       "\n",
       "    .dataframe tbody tr th {\n",
       "        vertical-align: top;\n",
       "    }\n",
       "\n",
       "    .dataframe thead th {\n",
       "        text-align: right;\n",
       "    }\n",
       "</style>\n",
       "<table border=\"1\" class=\"dataframe\">\n",
       "  <thead>\n",
       "    <tr style=\"text-align: right;\">\n",
       "      <th></th>\n",
       "      <th>bike_name</th>\n",
       "      <th>price</th>\n",
       "      <th>kms_driven</th>\n",
       "      <th>age</th>\n",
       "      <th>Owner_Type</th>\n",
       "      <th>Bajaj  Pulsar 180cc</th>\n",
       "      <th>Bajaj Avenger 150cc</th>\n",
       "      <th>Bajaj Avenger 180cc</th>\n",
       "      <th>Bajaj Avenger 200cc</th>\n",
       "      <th>Bajaj Avenger 220cc</th>\n",
       "      <th>...</th>\n",
       "      <th>Yamaha SZR 150cc</th>\n",
       "      <th>Yamaha SZX 150cc</th>\n",
       "      <th>Yamaha Saluto 125cc</th>\n",
       "      <th>Yamaha Saluto 125cc Disc Special Edition</th>\n",
       "      <th>Yamaha Saluto 125cc-Special Edition</th>\n",
       "      <th>Yamaha Saluto RX 110cc</th>\n",
       "      <th>Yamaha YBR 110cc</th>\n",
       "      <th>Yamaha YZF-R15 150cc</th>\n",
       "      <th>Yamaha YZF-R15 2.0 150cc</th>\n",
       "      <th>Yamaha YZF-R15 S 150cc</th>\n",
       "    </tr>\n",
       "  </thead>\n",
       "  <tbody>\n",
       "    <tr>\n",
       "      <th>0</th>\n",
       "      <td>TVS Star City Plus Dual Tone 110cc</td>\n",
       "      <td>35000</td>\n",
       "      <td>17654</td>\n",
       "      <td>3</td>\n",
       "      <td>0</td>\n",
       "      <td>0</td>\n",
       "      <td>0</td>\n",
       "      <td>0</td>\n",
       "      <td>0</td>\n",
       "      <td>0</td>\n",
       "      <td>...</td>\n",
       "      <td>0</td>\n",
       "      <td>0</td>\n",
       "      <td>0</td>\n",
       "      <td>0</td>\n",
       "      <td>0</td>\n",
       "      <td>0</td>\n",
       "      <td>0</td>\n",
       "      <td>0</td>\n",
       "      <td>0</td>\n",
       "      <td>0</td>\n",
       "    </tr>\n",
       "    <tr>\n",
       "      <th>3</th>\n",
       "      <td>TVS Apache RTR 180cc</td>\n",
       "      <td>65000</td>\n",
       "      <td>16329</td>\n",
       "      <td>4</td>\n",
       "      <td>0</td>\n",
       "      <td>0</td>\n",
       "      <td>0</td>\n",
       "      <td>0</td>\n",
       "      <td>0</td>\n",
       "      <td>0</td>\n",
       "      <td>...</td>\n",
       "      <td>0</td>\n",
       "      <td>0</td>\n",
       "      <td>0</td>\n",
       "      <td>0</td>\n",
       "      <td>0</td>\n",
       "      <td>0</td>\n",
       "      <td>0</td>\n",
       "      <td>0</td>\n",
       "      <td>0</td>\n",
       "      <td>0</td>\n",
       "    </tr>\n",
       "    <tr>\n",
       "      <th>4</th>\n",
       "      <td>Yamaha FZ S V 2.0 150cc-Ltd. Edition</td>\n",
       "      <td>80000</td>\n",
       "      <td>10000</td>\n",
       "      <td>3</td>\n",
       "      <td>0</td>\n",
       "      <td>0</td>\n",
       "      <td>0</td>\n",
       "      <td>0</td>\n",
       "      <td>0</td>\n",
       "      <td>0</td>\n",
       "      <td>...</td>\n",
       "      <td>0</td>\n",
       "      <td>0</td>\n",
       "      <td>0</td>\n",
       "      <td>0</td>\n",
       "      <td>0</td>\n",
       "      <td>0</td>\n",
       "      <td>0</td>\n",
       "      <td>0</td>\n",
       "      <td>0</td>\n",
       "      <td>0</td>\n",
       "    </tr>\n",
       "    <tr>\n",
       "      <th>5</th>\n",
       "      <td>Yamaha FZs 150cc</td>\n",
       "      <td>53499</td>\n",
       "      <td>25000</td>\n",
       "      <td>6</td>\n",
       "      <td>0</td>\n",
       "      <td>0</td>\n",
       "      <td>0</td>\n",
       "      <td>0</td>\n",
       "      <td>0</td>\n",
       "      <td>0</td>\n",
       "      <td>...</td>\n",
       "      <td>0</td>\n",
       "      <td>0</td>\n",
       "      <td>0</td>\n",
       "      <td>0</td>\n",
       "      <td>0</td>\n",
       "      <td>0</td>\n",
       "      <td>0</td>\n",
       "      <td>0</td>\n",
       "      <td>0</td>\n",
       "      <td>0</td>\n",
       "    </tr>\n",
       "    <tr>\n",
       "      <th>6</th>\n",
       "      <td>Honda CB Hornet 160R  ABS DLX</td>\n",
       "      <td>85000</td>\n",
       "      <td>8200</td>\n",
       "      <td>3</td>\n",
       "      <td>0</td>\n",
       "      <td>0</td>\n",
       "      <td>0</td>\n",
       "      <td>0</td>\n",
       "      <td>0</td>\n",
       "      <td>0</td>\n",
       "      <td>...</td>\n",
       "      <td>0</td>\n",
       "      <td>0</td>\n",
       "      <td>0</td>\n",
       "      <td>0</td>\n",
       "      <td>0</td>\n",
       "      <td>0</td>\n",
       "      <td>0</td>\n",
       "      <td>0</td>\n",
       "      <td>0</td>\n",
       "      <td>0</td>\n",
       "    </tr>\n",
       "  </tbody>\n",
       "</table>\n",
       "<p>5 rows × 337 columns</p>\n",
       "</div>"
      ],
      "text/plain": [
       "                              bike_name  price  kms_driven  age  Owner_Type  \\\n",
       "0    TVS Star City Plus Dual Tone 110cc  35000       17654    3           0   \n",
       "3                  TVS Apache RTR 180cc  65000       16329    4           0   \n",
       "4  Yamaha FZ S V 2.0 150cc-Ltd. Edition  80000       10000    3           0   \n",
       "5                      Yamaha FZs 150cc  53499       25000    6           0   \n",
       "6         Honda CB Hornet 160R  ABS DLX  85000        8200    3           0   \n",
       "\n",
       "   Bajaj  Pulsar 180cc  Bajaj Avenger 150cc  Bajaj Avenger 180cc  \\\n",
       "0                    0                    0                    0   \n",
       "3                    0                    0                    0   \n",
       "4                    0                    0                    0   \n",
       "5                    0                    0                    0   \n",
       "6                    0                    0                    0   \n",
       "\n",
       "   Bajaj Avenger 200cc  Bajaj Avenger 220cc  ...  Yamaha SZR 150cc  \\\n",
       "0                    0                    0  ...                 0   \n",
       "3                    0                    0  ...                 0   \n",
       "4                    0                    0  ...                 0   \n",
       "5                    0                    0  ...                 0   \n",
       "6                    0                    0  ...                 0   \n",
       "\n",
       "   Yamaha SZX 150cc  Yamaha Saluto 125cc  \\\n",
       "0                 0                    0   \n",
       "3                 0                    0   \n",
       "4                 0                    0   \n",
       "5                 0                    0   \n",
       "6                 0                    0   \n",
       "\n",
       "   Yamaha Saluto 125cc Disc Special Edition  \\\n",
       "0                                         0   \n",
       "3                                         0   \n",
       "4                                         0   \n",
       "5                                         0   \n",
       "6                                         0   \n",
       "\n",
       "   Yamaha Saluto 125cc-Special Edition  Yamaha Saluto RX 110cc  \\\n",
       "0                                    0                       0   \n",
       "3                                    0                       0   \n",
       "4                                    0                       0   \n",
       "5                                    0                       0   \n",
       "6                                    0                       0   \n",
       "\n",
       "   Yamaha YBR 110cc  Yamaha YZF-R15 150cc  Yamaha YZF-R15 2.0 150cc  \\\n",
       "0                 0                     0                         0   \n",
       "3                 0                     0                         0   \n",
       "4                 0                     0                         0   \n",
       "5                 0                     0                         0   \n",
       "6                 0                     0                         0   \n",
       "\n",
       "   Yamaha YZF-R15 S 150cc  \n",
       "0                       0  \n",
       "3                       0  \n",
       "4                       0  \n",
       "5                       0  \n",
       "6                       0  \n",
       "\n",
       "[5 rows x 337 columns]"
      ]
     },
     "execution_count": 47,
     "metadata": {},
     "output_type": "execute_result"
    }
   ],
   "source": [
    "df9=pd.concat([df8,dummies1],axis=1)\n",
    "df9.head()"
   ]
  },
  {
   "cell_type": "code",
   "execution_count": 48,
   "id": "scenic-suicide",
   "metadata": {
    "execution": {
     "iopub.execute_input": "2022-07-17T17:22:32.209348Z",
     "iopub.status.busy": "2022-07-17T17:22:32.208349Z",
     "iopub.status.idle": "2022-07-17T17:22:32.242043Z",
     "shell.execute_reply": "2022-07-17T17:22:32.242973Z",
     "shell.execute_reply.started": "2022-07-17T17:19:59.727041Z"
    },
    "papermill": {
     "duration": 0.127498,
     "end_time": "2022-07-17T17:22:32.243236",
     "exception": false,
     "start_time": "2022-07-17T17:22:32.115738",
     "status": "completed"
    },
    "tags": []
   },
   "outputs": [
    {
     "data": {
      "text/html": [
       "<div>\n",
       "<style scoped>\n",
       "    .dataframe tbody tr th:only-of-type {\n",
       "        vertical-align: middle;\n",
       "    }\n",
       "\n",
       "    .dataframe tbody tr th {\n",
       "        vertical-align: top;\n",
       "    }\n",
       "\n",
       "    .dataframe thead th {\n",
       "        text-align: right;\n",
       "    }\n",
       "</style>\n",
       "<table border=\"1\" class=\"dataframe\">\n",
       "  <thead>\n",
       "    <tr style=\"text-align: right;\">\n",
       "      <th></th>\n",
       "      <th>price</th>\n",
       "      <th>kms_driven</th>\n",
       "      <th>age</th>\n",
       "      <th>Owner_Type</th>\n",
       "      <th>Bajaj  Pulsar 180cc</th>\n",
       "      <th>Bajaj Avenger 150cc</th>\n",
       "      <th>Bajaj Avenger 180cc</th>\n",
       "      <th>Bajaj Avenger 200cc</th>\n",
       "      <th>Bajaj Avenger 220cc</th>\n",
       "      <th>Bajaj Avenger Cruise 220</th>\n",
       "      <th>...</th>\n",
       "      <th>Yamaha SZR 150cc</th>\n",
       "      <th>Yamaha SZX 150cc</th>\n",
       "      <th>Yamaha Saluto 125cc</th>\n",
       "      <th>Yamaha Saluto 125cc Disc Special Edition</th>\n",
       "      <th>Yamaha Saluto 125cc-Special Edition</th>\n",
       "      <th>Yamaha Saluto RX 110cc</th>\n",
       "      <th>Yamaha YBR 110cc</th>\n",
       "      <th>Yamaha YZF-R15 150cc</th>\n",
       "      <th>Yamaha YZF-R15 2.0 150cc</th>\n",
       "      <th>Yamaha YZF-R15 S 150cc</th>\n",
       "    </tr>\n",
       "  </thead>\n",
       "  <tbody>\n",
       "    <tr>\n",
       "      <th>0</th>\n",
       "      <td>35000</td>\n",
       "      <td>17654</td>\n",
       "      <td>3</td>\n",
       "      <td>0</td>\n",
       "      <td>0</td>\n",
       "      <td>0</td>\n",
       "      <td>0</td>\n",
       "      <td>0</td>\n",
       "      <td>0</td>\n",
       "      <td>0</td>\n",
       "      <td>...</td>\n",
       "      <td>0</td>\n",
       "      <td>0</td>\n",
       "      <td>0</td>\n",
       "      <td>0</td>\n",
       "      <td>0</td>\n",
       "      <td>0</td>\n",
       "      <td>0</td>\n",
       "      <td>0</td>\n",
       "      <td>0</td>\n",
       "      <td>0</td>\n",
       "    </tr>\n",
       "    <tr>\n",
       "      <th>3</th>\n",
       "      <td>65000</td>\n",
       "      <td>16329</td>\n",
       "      <td>4</td>\n",
       "      <td>0</td>\n",
       "      <td>0</td>\n",
       "      <td>0</td>\n",
       "      <td>0</td>\n",
       "      <td>0</td>\n",
       "      <td>0</td>\n",
       "      <td>0</td>\n",
       "      <td>...</td>\n",
       "      <td>0</td>\n",
       "      <td>0</td>\n",
       "      <td>0</td>\n",
       "      <td>0</td>\n",
       "      <td>0</td>\n",
       "      <td>0</td>\n",
       "      <td>0</td>\n",
       "      <td>0</td>\n",
       "      <td>0</td>\n",
       "      <td>0</td>\n",
       "    </tr>\n",
       "    <tr>\n",
       "      <th>4</th>\n",
       "      <td>80000</td>\n",
       "      <td>10000</td>\n",
       "      <td>3</td>\n",
       "      <td>0</td>\n",
       "      <td>0</td>\n",
       "      <td>0</td>\n",
       "      <td>0</td>\n",
       "      <td>0</td>\n",
       "      <td>0</td>\n",
       "      <td>0</td>\n",
       "      <td>...</td>\n",
       "      <td>0</td>\n",
       "      <td>0</td>\n",
       "      <td>0</td>\n",
       "      <td>0</td>\n",
       "      <td>0</td>\n",
       "      <td>0</td>\n",
       "      <td>0</td>\n",
       "      <td>0</td>\n",
       "      <td>0</td>\n",
       "      <td>0</td>\n",
       "    </tr>\n",
       "    <tr>\n",
       "      <th>5</th>\n",
       "      <td>53499</td>\n",
       "      <td>25000</td>\n",
       "      <td>6</td>\n",
       "      <td>0</td>\n",
       "      <td>0</td>\n",
       "      <td>0</td>\n",
       "      <td>0</td>\n",
       "      <td>0</td>\n",
       "      <td>0</td>\n",
       "      <td>0</td>\n",
       "      <td>...</td>\n",
       "      <td>0</td>\n",
       "      <td>0</td>\n",
       "      <td>0</td>\n",
       "      <td>0</td>\n",
       "      <td>0</td>\n",
       "      <td>0</td>\n",
       "      <td>0</td>\n",
       "      <td>0</td>\n",
       "      <td>0</td>\n",
       "      <td>0</td>\n",
       "    </tr>\n",
       "    <tr>\n",
       "      <th>6</th>\n",
       "      <td>85000</td>\n",
       "      <td>8200</td>\n",
       "      <td>3</td>\n",
       "      <td>0</td>\n",
       "      <td>0</td>\n",
       "      <td>0</td>\n",
       "      <td>0</td>\n",
       "      <td>0</td>\n",
       "      <td>0</td>\n",
       "      <td>0</td>\n",
       "      <td>...</td>\n",
       "      <td>0</td>\n",
       "      <td>0</td>\n",
       "      <td>0</td>\n",
       "      <td>0</td>\n",
       "      <td>0</td>\n",
       "      <td>0</td>\n",
       "      <td>0</td>\n",
       "      <td>0</td>\n",
       "      <td>0</td>\n",
       "      <td>0</td>\n",
       "    </tr>\n",
       "  </tbody>\n",
       "</table>\n",
       "<p>5 rows × 336 columns</p>\n",
       "</div>"
      ],
      "text/plain": [
       "   price  kms_driven  age  Owner_Type  Bajaj  Pulsar 180cc  \\\n",
       "0  35000       17654    3           0                    0   \n",
       "3  65000       16329    4           0                    0   \n",
       "4  80000       10000    3           0                    0   \n",
       "5  53499       25000    6           0                    0   \n",
       "6  85000        8200    3           0                    0   \n",
       "\n",
       "   Bajaj Avenger 150cc  Bajaj Avenger 180cc  Bajaj Avenger 200cc  \\\n",
       "0                    0                    0                    0   \n",
       "3                    0                    0                    0   \n",
       "4                    0                    0                    0   \n",
       "5                    0                    0                    0   \n",
       "6                    0                    0                    0   \n",
       "\n",
       "   Bajaj Avenger 220cc  Bajaj Avenger Cruise 220  ...  Yamaha SZR 150cc  \\\n",
       "0                    0                         0  ...                 0   \n",
       "3                    0                         0  ...                 0   \n",
       "4                    0                         0  ...                 0   \n",
       "5                    0                         0  ...                 0   \n",
       "6                    0                         0  ...                 0   \n",
       "\n",
       "   Yamaha SZX 150cc  Yamaha Saluto 125cc  \\\n",
       "0                 0                    0   \n",
       "3                 0                    0   \n",
       "4                 0                    0   \n",
       "5                 0                    0   \n",
       "6                 0                    0   \n",
       "\n",
       "   Yamaha Saluto 125cc Disc Special Edition  \\\n",
       "0                                         0   \n",
       "3                                         0   \n",
       "4                                         0   \n",
       "5                                         0   \n",
       "6                                         0   \n",
       "\n",
       "   Yamaha Saluto 125cc-Special Edition  Yamaha Saluto RX 110cc  \\\n",
       "0                                    0                       0   \n",
       "3                                    0                       0   \n",
       "4                                    0                       0   \n",
       "5                                    0                       0   \n",
       "6                                    0                       0   \n",
       "\n",
       "   Yamaha YBR 110cc  Yamaha YZF-R15 150cc  Yamaha YZF-R15 2.0 150cc  \\\n",
       "0                 0                     0                         0   \n",
       "3                 0                     0                         0   \n",
       "4                 0                     0                         0   \n",
       "5                 0                     0                         0   \n",
       "6                 0                     0                         0   \n",
       "\n",
       "   Yamaha YZF-R15 S 150cc  \n",
       "0                       0  \n",
       "3                       0  \n",
       "4                       0  \n",
       "5                       0  \n",
       "6                       0  \n",
       "\n",
       "[5 rows x 336 columns]"
      ]
     },
     "execution_count": 48,
     "metadata": {},
     "output_type": "execute_result"
    }
   ],
   "source": [
    "df10=df9.drop(['bike_name'],axis=1)\n",
    "df10.head()"
   ]
  },
  {
   "cell_type": "code",
   "execution_count": 49,
   "id": "dynamic-prototype",
   "metadata": {
    "execution": {
     "iopub.execute_input": "2022-07-17T17:22:32.415984Z",
     "iopub.status.busy": "2022-07-17T17:22:32.412459Z",
     "iopub.status.idle": "2022-07-17T17:22:32.448978Z",
     "shell.execute_reply": "2022-07-17T17:22:32.448354Z",
     "shell.execute_reply.started": "2022-07-17T17:19:59.941123Z"
    },
    "papermill": {
     "duration": 0.120338,
     "end_time": "2022-07-17T17:22:32.449122",
     "exception": false,
     "start_time": "2022-07-17T17:22:32.328784",
     "status": "completed"
    },
    "tags": []
   },
   "outputs": [
    {
     "data": {
      "text/html": [
       "<div>\n",
       "<style scoped>\n",
       "    .dataframe tbody tr th:only-of-type {\n",
       "        vertical-align: middle;\n",
       "    }\n",
       "\n",
       "    .dataframe tbody tr th {\n",
       "        vertical-align: top;\n",
       "    }\n",
       "\n",
       "    .dataframe thead th {\n",
       "        text-align: right;\n",
       "    }\n",
       "</style>\n",
       "<table border=\"1\" class=\"dataframe\">\n",
       "  <thead>\n",
       "    <tr style=\"text-align: right;\">\n",
       "      <th></th>\n",
       "      <th>kms_driven</th>\n",
       "      <th>age</th>\n",
       "      <th>Owner_Type</th>\n",
       "      <th>Bajaj  Pulsar 180cc</th>\n",
       "      <th>Bajaj Avenger 150cc</th>\n",
       "      <th>Bajaj Avenger 180cc</th>\n",
       "      <th>Bajaj Avenger 200cc</th>\n",
       "      <th>Bajaj Avenger 220cc</th>\n",
       "      <th>Bajaj Avenger Cruise 220</th>\n",
       "      <th>Bajaj Avenger Cruise 220 ABS</th>\n",
       "      <th>...</th>\n",
       "      <th>Yamaha SZR 150cc</th>\n",
       "      <th>Yamaha SZX 150cc</th>\n",
       "      <th>Yamaha Saluto 125cc</th>\n",
       "      <th>Yamaha Saluto 125cc Disc Special Edition</th>\n",
       "      <th>Yamaha Saluto 125cc-Special Edition</th>\n",
       "      <th>Yamaha Saluto RX 110cc</th>\n",
       "      <th>Yamaha YBR 110cc</th>\n",
       "      <th>Yamaha YZF-R15 150cc</th>\n",
       "      <th>Yamaha YZF-R15 2.0 150cc</th>\n",
       "      <th>Yamaha YZF-R15 S 150cc</th>\n",
       "    </tr>\n",
       "  </thead>\n",
       "  <tbody>\n",
       "    <tr>\n",
       "      <th>0</th>\n",
       "      <td>17654</td>\n",
       "      <td>3</td>\n",
       "      <td>0</td>\n",
       "      <td>0</td>\n",
       "      <td>0</td>\n",
       "      <td>0</td>\n",
       "      <td>0</td>\n",
       "      <td>0</td>\n",
       "      <td>0</td>\n",
       "      <td>0</td>\n",
       "      <td>...</td>\n",
       "      <td>0</td>\n",
       "      <td>0</td>\n",
       "      <td>0</td>\n",
       "      <td>0</td>\n",
       "      <td>0</td>\n",
       "      <td>0</td>\n",
       "      <td>0</td>\n",
       "      <td>0</td>\n",
       "      <td>0</td>\n",
       "      <td>0</td>\n",
       "    </tr>\n",
       "    <tr>\n",
       "      <th>3</th>\n",
       "      <td>16329</td>\n",
       "      <td>4</td>\n",
       "      <td>0</td>\n",
       "      <td>0</td>\n",
       "      <td>0</td>\n",
       "      <td>0</td>\n",
       "      <td>0</td>\n",
       "      <td>0</td>\n",
       "      <td>0</td>\n",
       "      <td>0</td>\n",
       "      <td>...</td>\n",
       "      <td>0</td>\n",
       "      <td>0</td>\n",
       "      <td>0</td>\n",
       "      <td>0</td>\n",
       "      <td>0</td>\n",
       "      <td>0</td>\n",
       "      <td>0</td>\n",
       "      <td>0</td>\n",
       "      <td>0</td>\n",
       "      <td>0</td>\n",
       "    </tr>\n",
       "    <tr>\n",
       "      <th>4</th>\n",
       "      <td>10000</td>\n",
       "      <td>3</td>\n",
       "      <td>0</td>\n",
       "      <td>0</td>\n",
       "      <td>0</td>\n",
       "      <td>0</td>\n",
       "      <td>0</td>\n",
       "      <td>0</td>\n",
       "      <td>0</td>\n",
       "      <td>0</td>\n",
       "      <td>...</td>\n",
       "      <td>0</td>\n",
       "      <td>0</td>\n",
       "      <td>0</td>\n",
       "      <td>0</td>\n",
       "      <td>0</td>\n",
       "      <td>0</td>\n",
       "      <td>0</td>\n",
       "      <td>0</td>\n",
       "      <td>0</td>\n",
       "      <td>0</td>\n",
       "    </tr>\n",
       "    <tr>\n",
       "      <th>5</th>\n",
       "      <td>25000</td>\n",
       "      <td>6</td>\n",
       "      <td>0</td>\n",
       "      <td>0</td>\n",
       "      <td>0</td>\n",
       "      <td>0</td>\n",
       "      <td>0</td>\n",
       "      <td>0</td>\n",
       "      <td>0</td>\n",
       "      <td>0</td>\n",
       "      <td>...</td>\n",
       "      <td>0</td>\n",
       "      <td>0</td>\n",
       "      <td>0</td>\n",
       "      <td>0</td>\n",
       "      <td>0</td>\n",
       "      <td>0</td>\n",
       "      <td>0</td>\n",
       "      <td>0</td>\n",
       "      <td>0</td>\n",
       "      <td>0</td>\n",
       "    </tr>\n",
       "    <tr>\n",
       "      <th>6</th>\n",
       "      <td>8200</td>\n",
       "      <td>3</td>\n",
       "      <td>0</td>\n",
       "      <td>0</td>\n",
       "      <td>0</td>\n",
       "      <td>0</td>\n",
       "      <td>0</td>\n",
       "      <td>0</td>\n",
       "      <td>0</td>\n",
       "      <td>0</td>\n",
       "      <td>...</td>\n",
       "      <td>0</td>\n",
       "      <td>0</td>\n",
       "      <td>0</td>\n",
       "      <td>0</td>\n",
       "      <td>0</td>\n",
       "      <td>0</td>\n",
       "      <td>0</td>\n",
       "      <td>0</td>\n",
       "      <td>0</td>\n",
       "      <td>0</td>\n",
       "    </tr>\n",
       "  </tbody>\n",
       "</table>\n",
       "<p>5 rows × 335 columns</p>\n",
       "</div>"
      ],
      "text/plain": [
       "   kms_driven  age  Owner_Type  Bajaj  Pulsar 180cc  Bajaj Avenger 150cc  \\\n",
       "0       17654    3           0                    0                    0   \n",
       "3       16329    4           0                    0                    0   \n",
       "4       10000    3           0                    0                    0   \n",
       "5       25000    6           0                    0                    0   \n",
       "6        8200    3           0                    0                    0   \n",
       "\n",
       "   Bajaj Avenger 180cc  Bajaj Avenger 200cc  Bajaj Avenger 220cc  \\\n",
       "0                    0                    0                    0   \n",
       "3                    0                    0                    0   \n",
       "4                    0                    0                    0   \n",
       "5                    0                    0                    0   \n",
       "6                    0                    0                    0   \n",
       "\n",
       "   Bajaj Avenger Cruise 220  Bajaj Avenger Cruise 220 ABS  ...  \\\n",
       "0                         0                             0  ...   \n",
       "3                         0                             0  ...   \n",
       "4                         0                             0  ...   \n",
       "5                         0                             0  ...   \n",
       "6                         0                             0  ...   \n",
       "\n",
       "   Yamaha SZR 150cc  Yamaha SZX 150cc  Yamaha Saluto 125cc  \\\n",
       "0                 0                 0                    0   \n",
       "3                 0                 0                    0   \n",
       "4                 0                 0                    0   \n",
       "5                 0                 0                    0   \n",
       "6                 0                 0                    0   \n",
       "\n",
       "   Yamaha Saluto 125cc Disc Special Edition  \\\n",
       "0                                         0   \n",
       "3                                         0   \n",
       "4                                         0   \n",
       "5                                         0   \n",
       "6                                         0   \n",
       "\n",
       "   Yamaha Saluto 125cc-Special Edition  Yamaha Saluto RX 110cc  \\\n",
       "0                                    0                       0   \n",
       "3                                    0                       0   \n",
       "4                                    0                       0   \n",
       "5                                    0                       0   \n",
       "6                                    0                       0   \n",
       "\n",
       "   Yamaha YBR 110cc  Yamaha YZF-R15 150cc  Yamaha YZF-R15 2.0 150cc  \\\n",
       "0                 0                     0                         0   \n",
       "3                 0                     0                         0   \n",
       "4                 0                     0                         0   \n",
       "5                 0                     0                         0   \n",
       "6                 0                     0                         0   \n",
       "\n",
       "   Yamaha YZF-R15 S 150cc  \n",
       "0                       0  \n",
       "3                       0  \n",
       "4                       0  \n",
       "5                       0  \n",
       "6                       0  \n",
       "\n",
       "[5 rows x 335 columns]"
      ]
     },
     "execution_count": 49,
     "metadata": {},
     "output_type": "execute_result"
    }
   ],
   "source": [
    "X=df10.drop(['price'],axis=1)\n",
    "X.head()"
   ]
  },
  {
   "cell_type": "code",
   "execution_count": 50,
   "id": "iraqi-engineering",
   "metadata": {
    "execution": {
     "iopub.execute_input": "2022-07-17T17:22:32.614003Z",
     "iopub.status.busy": "2022-07-17T17:22:32.613374Z",
     "iopub.status.idle": "2022-07-17T17:22:32.621243Z",
     "shell.execute_reply": "2022-07-17T17:22:32.621825Z",
     "shell.execute_reply.started": "2022-07-17T17:20:00.441877Z"
    },
    "papermill": {
     "duration": 0.087767,
     "end_time": "2022-07-17T17:22:32.622008",
     "exception": false,
     "start_time": "2022-07-17T17:22:32.534241",
     "status": "completed"
    },
    "tags": []
   },
   "outputs": [
    {
     "data": {
      "text/plain": [
       "0    35000\n",
       "3    65000\n",
       "4    80000\n",
       "5    53499\n",
       "6    85000\n",
       "Name: price, dtype: int32"
      ]
     },
     "execution_count": 50,
     "metadata": {},
     "output_type": "execute_result"
    }
   ],
   "source": [
    "y=df10['price']\n",
    "y.head()"
   ]
  },
  {
   "cell_type": "code",
   "execution_count": 51,
   "id": "mounted-investment",
   "metadata": {
    "execution": {
     "iopub.execute_input": "2022-07-17T17:22:32.779953Z",
     "iopub.status.busy": "2022-07-17T17:22:32.779325Z",
     "iopub.status.idle": "2022-07-17T17:22:33.132859Z",
     "shell.execute_reply": "2022-07-17T17:22:33.133852Z",
     "shell.execute_reply.started": "2022-07-17T17:20:00.866145Z"
    },
    "papermill": {
     "duration": 0.434747,
     "end_time": "2022-07-17T17:22:33.134119",
     "exception": false,
     "start_time": "2022-07-17T17:22:32.699372",
     "status": "completed"
    },
    "tags": []
   },
   "outputs": [
    {
     "data": {
      "text/plain": [
       "LinearRegression()"
      ]
     },
     "execution_count": 51,
     "metadata": {},
     "output_type": "execute_result"
    }
   ],
   "source": [
    "from sklearn.model_selection import train_test_split\n",
    "x_train,x_test,y_train,y_test=train_test_split(X,y,test_size=0.2,random_state=10)\n",
    "from sklearn import linear_model\n",
    "model=linear_model.LinearRegression()\n",
    "model.fit(x_test,y_test)"
   ]
  },
  {
   "cell_type": "code",
   "execution_count": 52,
   "id": "final-grade",
   "metadata": {
    "execution": {
     "iopub.execute_input": "2022-07-17T17:22:33.346823Z",
     "iopub.status.busy": "2022-07-17T17:22:33.346120Z",
     "iopub.status.idle": "2022-07-17T17:22:33.373064Z",
     "shell.execute_reply": "2022-07-17T17:22:33.374101Z",
     "shell.execute_reply.started": "2022-07-17T17:20:01.896792Z"
    },
    "papermill": {
     "duration": 0.114196,
     "end_time": "2022-07-17T17:22:33.374405",
     "exception": false,
     "start_time": "2022-07-17T17:22:33.260209",
     "status": "completed"
    },
    "tags": []
   },
   "outputs": [
    {
     "data": {
      "text/plain": [
       "0.9552984815320624"
      ]
     },
     "execution_count": 52,
     "metadata": {},
     "output_type": "execute_result"
    }
   ],
   "source": [
    "model.score(x_test,y_test)"
   ]
  },
  {
   "cell_type": "code",
   "execution_count": 53,
   "id": "unlike-friendly",
   "metadata": {
    "execution": {
     "iopub.execute_input": "2022-07-17T17:22:33.586475Z",
     "iopub.status.busy": "2022-07-17T17:22:33.585667Z",
     "iopub.status.idle": "2022-07-17T17:22:33.588504Z",
     "shell.execute_reply": "2022-07-17T17:22:33.589241Z",
     "shell.execute_reply.started": "2022-07-17T17:20:05.224120Z"
    },
    "papermill": {
     "duration": 0.087589,
     "end_time": "2022-07-17T17:22:33.589466",
     "exception": false,
     "start_time": "2022-07-17T17:22:33.501877",
     "status": "completed"
    },
    "tags": []
   },
   "outputs": [
    {
     "name": "stdout",
     "output_type": "stream",
     "text": [
      "0          TVS Star City Plus Dual Tone 110cc\n",
      "3                        TVS Apache RTR 180cc\n",
      "4        Yamaha FZ S V 2.0 150cc-Ltd. Edition\n",
      "5                            Yamaha FZs 150cc\n",
      "6               Honda CB Hornet 160R  ABS DLX\n",
      "                         ...                 \n",
      "32643                  Hero Passion Pro 100cc\n",
      "32644                    TVS Apache RTR 180cc\n",
      "32645                Bajaj Avenger Street 220\n",
      "32646               Hero Super Splendor 125cc\n",
      "32647                      Bajaj Pulsar 150cc\n",
      "Name: bike_name, Length: 27412, dtype: object\n"
     ]
    }
   ],
   "source": [
    "print(df9['bike_name'])"
   ]
  },
  {
   "cell_type": "code",
   "execution_count": 54,
   "id": "early-bumper",
   "metadata": {
    "execution": {
     "iopub.execute_input": "2022-07-17T17:22:33.752584Z",
     "iopub.status.busy": "2022-07-17T17:22:33.751898Z",
     "iopub.status.idle": "2022-07-17T17:22:33.755486Z",
     "shell.execute_reply": "2022-07-17T17:22:33.756123Z",
     "shell.execute_reply.started": "2022-07-17T17:20:06.463944Z"
    },
    "papermill": {
     "duration": 0.085893,
     "end_time": "2022-07-17T17:22:33.756339",
     "exception": false,
     "start_time": "2022-07-17T17:22:33.670446",
     "status": "completed"
    },
    "tags": []
   },
   "outputs": [],
   "source": [
    "### First owner  =0\n",
    "### Second owner =2\n",
    "### Third owner  =3\n",
    "### Fourth owner =1"
   ]
  },
  {
   "cell_type": "code",
   "execution_count": 55,
   "id": "parliamentary-filling",
   "metadata": {
    "execution": {
     "iopub.execute_input": "2022-07-17T17:22:33.918493Z",
     "iopub.status.busy": "2022-07-17T17:22:33.917863Z",
     "iopub.status.idle": "2022-07-17T17:22:33.923549Z",
     "shell.execute_reply": "2022-07-17T17:22:33.924042Z",
     "shell.execute_reply.started": "2022-07-17T17:20:08.388165Z"
    },
    "papermill": {
     "duration": 0.086685,
     "end_time": "2022-07-17T17:22:33.924220",
     "exception": false,
     "start_time": "2022-07-17T17:22:33.837535",
     "status": "completed"
    },
    "tags": []
   },
   "outputs": [
    {
     "data": {
      "text/plain": [
       "4"
      ]
     },
     "execution_count": 55,
     "metadata": {},
     "output_type": "execute_result"
    }
   ],
   "source": [
    "location='Bajaj Avenger 150cc'\n",
    "np.where(X.columns==location)[0][0]"
   ]
  },
  {
   "cell_type": "code",
   "execution_count": 56,
   "id": "eastern-workplace",
   "metadata": {
    "execution": {
     "iopub.execute_input": "2022-07-17T17:22:34.084992Z",
     "iopub.status.busy": "2022-07-17T17:22:34.084043Z",
     "iopub.status.idle": "2022-07-17T17:22:34.089861Z",
     "shell.execute_reply": "2022-07-17T17:22:34.090360Z",
     "shell.execute_reply.started": "2022-07-17T17:20:10.107615Z"
    },
    "papermill": {
     "duration": 0.087832,
     "end_time": "2022-07-17T17:22:34.090528",
     "exception": false,
     "start_time": "2022-07-17T17:22:34.002696",
     "status": "completed"
    },
    "tags": []
   },
   "outputs": [],
   "source": [
    "def predict_price(location,kms_driven,age,Owner_Type):    \n",
    "    loc_index = np.where(X.columns==location)[0][0]\n",
    "\n",
    "    x = np.zeros(len(X.columns)) \n",
    "    x[0] = kms_driven\n",
    "    x[1] = age\n",
    "    x[2] = Owner_Type\n",
    "    if loc_index >= 0:\n",
    "        x[loc_index] = 1\n",
    "\n",
    "    return model.predict([x])[0]"
   ]
  },
  {
   "cell_type": "code",
   "execution_count": 57,
   "id": "engaging-details",
   "metadata": {
    "execution": {
     "iopub.execute_input": "2022-07-17T17:22:34.250039Z",
     "iopub.status.busy": "2022-07-17T17:22:34.249043Z",
     "iopub.status.idle": "2022-07-17T17:22:34.256070Z",
     "shell.execute_reply": "2022-07-17T17:22:34.256567Z",
     "shell.execute_reply.started": "2022-07-17T17:20:11.705342Z"
    },
    "papermill": {
     "duration": 0.088294,
     "end_time": "2022-07-17T17:22:34.256750",
     "exception": false,
     "start_time": "2022-07-17T17:22:34.168456",
     "status": "completed"
    },
    "tags": []
   },
   "outputs": [
    {
     "data": {
      "text/plain": [
       "0          TVS Star City Plus Dual Tone 110cc\n",
       "3                        TVS Apache RTR 180cc\n",
       "4        Yamaha FZ S V 2.0 150cc-Ltd. Edition\n",
       "5                            Yamaha FZs 150cc\n",
       "6               Honda CB Hornet 160R  ABS DLX\n",
       "                         ...                 \n",
       "32643                  Hero Passion Pro 100cc\n",
       "32644                    TVS Apache RTR 180cc\n",
       "32645                Bajaj Avenger Street 220\n",
       "32646               Hero Super Splendor 125cc\n",
       "32647                      Bajaj Pulsar 150cc\n",
       "Name: bike_name, Length: 27412, dtype: object"
      ]
     },
     "execution_count": 57,
     "metadata": {},
     "output_type": "execute_result"
    }
   ],
   "source": [
    "df9['bike_name']"
   ]
  },
  {
   "cell_type": "code",
   "execution_count": 58,
   "id": "compliant-luxury",
   "metadata": {
    "execution": {
     "iopub.execute_input": "2022-07-17T17:22:34.420872Z",
     "iopub.status.busy": "2022-07-17T17:22:34.419862Z",
     "iopub.status.idle": "2022-07-17T17:22:34.426064Z",
     "shell.execute_reply": "2022-07-17T17:22:34.426575Z",
     "shell.execute_reply.started": "2022-07-17T17:20:17.238679Z"
    },
    "papermill": {
     "duration": 0.090716,
     "end_time": "2022-07-17T17:22:34.426748",
     "exception": false,
     "start_time": "2022-07-17T17:22:34.336032",
     "status": "completed"
    },
    "tags": []
   },
   "outputs": [
    {
     "data": {
      "text/plain": [
       "20714.47792205718"
      ]
     },
     "execution_count": 58,
     "metadata": {},
     "output_type": "execute_result"
    }
   ],
   "source": [
    "predict_price('TVS Star City Plus Dual Tone 110cc',25000,8,0)"
   ]
  },
  {
   "cell_type": "code",
   "execution_count": null,
   "id": "cardiovascular-aircraft",
   "metadata": {
    "papermill": {
     "duration": 0.080113,
     "end_time": "2022-07-17T17:22:34.587993",
     "exception": false,
     "start_time": "2022-07-17T17:22:34.507880",
     "status": "completed"
    },
    "tags": []
   },
   "outputs": [],
   "source": []
  }
 ],
 "metadata": {
  "kernelspec": {
   "display_name": "Python 3",
   "language": "python",
   "name": "python3"
  },
  "language_info": {
   "codemirror_mode": {
    "name": "ipython",
    "version": 3
   },
   "file_extension": ".py",
   "mimetype": "text/x-python",
   "name": "python",
   "nbconvert_exporter": "python",
   "pygments_lexer": "ipython3",
   "version": "3.7.10"
  },
  "papermill": {
   "default_parameters": {},
   "duration": 84.9427,
   "end_time": "2022-07-17T17:22:37.367856",
   "environment_variables": {},
   "exception": null,
   "input_path": "__notebook__.ipynb",
   "output_path": "__notebook__.ipynb",
   "parameters": {},
   "start_time": "2022-07-17T17:21:12.425156",
   "version": "2.3.3"
  }
 },
 "nbformat": 4,
 "nbformat_minor": 5
}
